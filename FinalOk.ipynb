{
  "nbformat": 4,
  "nbformat_minor": 0,
  "metadata": {
    "kernelspec": {
      "display_name": "Python 3",
      "language": "python",
      "name": "python3"
    },
    "language_info": {
      "codemirror_mode": {
        "name": "ipython",
        "version": 3
      },
      "file_extension": ".py",
      "mimetype": "text/x-python",
      "name": "python",
      "nbconvert_exporter": "python",
      "pygments_lexer": "ipython3",
      "version": "3.7.3"
    },
    "colab": {
      "provenance": [],
      "include_colab_link": true
    }
  },
  "cells": [
    {
      "cell_type": "markdown",
      "metadata": {
        "id": "view-in-github",
        "colab_type": "text"
      },
      "source": [
        "<a href=\"https://colab.research.google.com/github/susanje/clusteringpractica/blob/main/FinalOk.ipynb\" target=\"_parent\"><img src=\"https://colab.research.google.com/assets/colab-badge.svg\" alt=\"Open In Colab\"/></a>"
      ]
    },
    {
      "cell_type": "markdown",
      "metadata": {
        "id": "4vjqkJbJBmGA"
      },
      "source": [
        "### **Overview**\n",
        "\n",
        "Throughout this assignment, you will be performing specific well-defined tasks that’ll strengthen your concepts in Unsupervised Learning. We will be using the facebook live sellers dataset for Task 1 & 2 of the assignment and here is a brief context about the same - The data is about live selling feature on the Facebook platform. Each record consists of information about the time live information of sale is posted to Facebook and engagements in the data. The engagements are regular Facebook interactions such as share and emotion rection.\n",
        "\n",
        "As part of the assignment, you will have to accomplish the below tasks.\n",
        "\n",
        "\n",
        "**Author:** Chintoo Kumar"
      ]
    },
    {
      "cell_type": "markdown",
      "metadata": {
        "id": "Y5U0zsQcBW2j"
      },
      "source": [
        "###**Dataset**\n",
        "\n",
        "Dataset Link: https://archive.ics.uci.edu/ml/machine-learning-databases/00488/Live_20210128.csv\n",
        "\n",
        "**About the dataset:**\n",
        "\n",
        "The Facebook Live Sellers in Thailand is a dataset curated in UCI Machine Learning Datasets. It data contains 7050 observations and twelve attributes. In this assignment, the preprocessed dataset contains 7050 instances and 10 attributes. The details of the attributes are as follows:\n",
        "\n",
        "* status_type: The type of shared status\n",
        "* num_reactions: Number of glimpses over a shared status by viewers\n",
        "* num_comments: Number of comments on that particular shared status\n",
        "* num_shares: Toal number of shares by peers\n",
        "* num_likes: Number of likes on the post\n",
        "* num_loves: Number of love emojis of that shared post\n",
        "* num_wows: Number of wow emojis on that post\n",
        "* num_hahas: Number of haha emojis on that post\n",
        "* num_sads: Number of sad emojis on that post\n",
        "* num_angrys: Number of angry emojis on that post"
      ]
    },
    {
      "cell_type": "markdown",
      "metadata": {
        "id": "Nt260k7VBW2k"
      },
      "source": [
        "### **Task 1: Data loading and Data Analysis**\n",
        "\n",
        "* Load the data file into a dataframe object : df\n",
        "* Display the first 5 observation of the dataset\n",
        "* Display a concise summary of the provided data and list out 2 observations/inferences that you observe from the result. You can use the info() method for this.\n",
        "* Perform EDA viz. Is there any missing values in each column of the provided dataset\n",
        "* Display all the unique status_type of the dataframe\n",
        "* Convert categorical variable, i.e., status_type into numerical representation using a label encoder"
      ]
    },
    {
      "cell_type": "code",
      "source": [
        "!pip install plotly"
      ],
      "metadata": {
        "colab": {
          "base_uri": "https://localhost:8080/"
        },
        "id": "hEbmn3oqKiIo",
        "outputId": "ae94c370-673e-4fc1-8033-327388616f05"
      },
      "execution_count": null,
      "outputs": [
        {
          "output_type": "stream",
          "name": "stdout",
          "text": [
            "Looking in indexes: https://pypi.org/simple, https://us-python.pkg.dev/colab-wheels/public/simple/\n",
            "Requirement already satisfied: plotly in /usr/local/lib/python3.7/dist-packages (5.5.0)\n",
            "Requirement already satisfied: tenacity>=6.2.0 in /usr/local/lib/python3.7/dist-packages (from plotly) (8.1.0)\n",
            "Requirement already satisfied: six in /usr/local/lib/python3.7/dist-packages (from plotly) (1.15.0)\n"
          ]
        }
      ]
    },
    {
      "cell_type": "code",
      "source": [
        "from sklearn.model_selection import train_test_split\n",
        "import matplotlib.pyplot as plt\n",
        "import pandas as pd\n",
        "import datetime as dt\n",
        "from datetime import datetime, date\n",
        "import numpy as np\n",
        "from math import sqrt\n",
        "import seaborn as sns\n",
        "import warnings\n",
        "warnings.filterwarnings(\"ignore\")\n",
        "import plotly.graph_objs as go\n",
        "%matplotlib inline\n",
        "from sklearn import preprocessing\n",
        "from sklearn.tree import DecisionTreeClassifier\n",
        "from sklearn.metrics import classification_report, accuracy_score, precision_score, recall_score, f1_score, confusion_matrix\n",
        "import math"
      ],
      "metadata": {
        "id": "F6VvoVzL-Cft"
      },
      "execution_count": 3,
      "outputs": []
    },
    {
      "cell_type": "code",
      "source": [
        "df= pd.read_csv('https://archive.ics.uci.edu/ml/machine-learning-databases/00488/Live_20210128.csv')"
      ],
      "metadata": {
        "id": "yN8cg-QO0RYh"
      },
      "execution_count": null,
      "outputs": []
    },
    {
      "cell_type": "code",
      "source": [
        "df.head(5)"
      ],
      "metadata": {
        "colab": {
          "base_uri": "https://localhost:8080/",
          "height": 206
        },
        "id": "HTA1twF909Qg",
        "outputId": "e33a86f6-2000-45ef-9cbf-a4100823e31a"
      },
      "execution_count": null,
      "outputs": [
        {
          "output_type": "execute_result",
          "data": {
            "text/plain": [
              "   status_id status_type status_published  num_reactions  num_comments  \\\n",
              "0          1       video   4/22/2018 6:00            529           512   \n",
              "1          2       photo  4/21/2018 22:45            150             0   \n",
              "2          3       video   4/21/2018 6:17            227           236   \n",
              "3          4       photo   4/21/2018 2:29            111             0   \n",
              "4          5       photo   4/18/2018 3:22            213             0   \n",
              "\n",
              "   num_shares  num_likes  num_loves  num_wows  num_hahas  num_sads  \\\n",
              "0         262        432         92         3          1         1   \n",
              "1           0        150          0         0          0         0   \n",
              "2          57        204         21         1          1         0   \n",
              "3           0        111          0         0          0         0   \n",
              "4           0        204          9         0          0         0   \n",
              "\n",
              "   num_angrys  Column1  Column2  Column3  Column4  \n",
              "0           0      NaN      NaN      NaN      NaN  \n",
              "1           0      NaN      NaN      NaN      NaN  \n",
              "2           0      NaN      NaN      NaN      NaN  \n",
              "3           0      NaN      NaN      NaN      NaN  \n",
              "4           0      NaN      NaN      NaN      NaN  "
            ],
            "text/html": [
              "\n",
              "  <div id=\"df-1203de2a-bc7c-4a0e-a225-75586e4acd63\">\n",
              "    <div class=\"colab-df-container\">\n",
              "      <div>\n",
              "<style scoped>\n",
              "    .dataframe tbody tr th:only-of-type {\n",
              "        vertical-align: middle;\n",
              "    }\n",
              "\n",
              "    .dataframe tbody tr th {\n",
              "        vertical-align: top;\n",
              "    }\n",
              "\n",
              "    .dataframe thead th {\n",
              "        text-align: right;\n",
              "    }\n",
              "</style>\n",
              "<table border=\"1\" class=\"dataframe\">\n",
              "  <thead>\n",
              "    <tr style=\"text-align: right;\">\n",
              "      <th></th>\n",
              "      <th>status_id</th>\n",
              "      <th>status_type</th>\n",
              "      <th>status_published</th>\n",
              "      <th>num_reactions</th>\n",
              "      <th>num_comments</th>\n",
              "      <th>num_shares</th>\n",
              "      <th>num_likes</th>\n",
              "      <th>num_loves</th>\n",
              "      <th>num_wows</th>\n",
              "      <th>num_hahas</th>\n",
              "      <th>num_sads</th>\n",
              "      <th>num_angrys</th>\n",
              "      <th>Column1</th>\n",
              "      <th>Column2</th>\n",
              "      <th>Column3</th>\n",
              "      <th>Column4</th>\n",
              "    </tr>\n",
              "  </thead>\n",
              "  <tbody>\n",
              "    <tr>\n",
              "      <th>0</th>\n",
              "      <td>1</td>\n",
              "      <td>video</td>\n",
              "      <td>4/22/2018 6:00</td>\n",
              "      <td>529</td>\n",
              "      <td>512</td>\n",
              "      <td>262</td>\n",
              "      <td>432</td>\n",
              "      <td>92</td>\n",
              "      <td>3</td>\n",
              "      <td>1</td>\n",
              "      <td>1</td>\n",
              "      <td>0</td>\n",
              "      <td>NaN</td>\n",
              "      <td>NaN</td>\n",
              "      <td>NaN</td>\n",
              "      <td>NaN</td>\n",
              "    </tr>\n",
              "    <tr>\n",
              "      <th>1</th>\n",
              "      <td>2</td>\n",
              "      <td>photo</td>\n",
              "      <td>4/21/2018 22:45</td>\n",
              "      <td>150</td>\n",
              "      <td>0</td>\n",
              "      <td>0</td>\n",
              "      <td>150</td>\n",
              "      <td>0</td>\n",
              "      <td>0</td>\n",
              "      <td>0</td>\n",
              "      <td>0</td>\n",
              "      <td>0</td>\n",
              "      <td>NaN</td>\n",
              "      <td>NaN</td>\n",
              "      <td>NaN</td>\n",
              "      <td>NaN</td>\n",
              "    </tr>\n",
              "    <tr>\n",
              "      <th>2</th>\n",
              "      <td>3</td>\n",
              "      <td>video</td>\n",
              "      <td>4/21/2018 6:17</td>\n",
              "      <td>227</td>\n",
              "      <td>236</td>\n",
              "      <td>57</td>\n",
              "      <td>204</td>\n",
              "      <td>21</td>\n",
              "      <td>1</td>\n",
              "      <td>1</td>\n",
              "      <td>0</td>\n",
              "      <td>0</td>\n",
              "      <td>NaN</td>\n",
              "      <td>NaN</td>\n",
              "      <td>NaN</td>\n",
              "      <td>NaN</td>\n",
              "    </tr>\n",
              "    <tr>\n",
              "      <th>3</th>\n",
              "      <td>4</td>\n",
              "      <td>photo</td>\n",
              "      <td>4/21/2018 2:29</td>\n",
              "      <td>111</td>\n",
              "      <td>0</td>\n",
              "      <td>0</td>\n",
              "      <td>111</td>\n",
              "      <td>0</td>\n",
              "      <td>0</td>\n",
              "      <td>0</td>\n",
              "      <td>0</td>\n",
              "      <td>0</td>\n",
              "      <td>NaN</td>\n",
              "      <td>NaN</td>\n",
              "      <td>NaN</td>\n",
              "      <td>NaN</td>\n",
              "    </tr>\n",
              "    <tr>\n",
              "      <th>4</th>\n",
              "      <td>5</td>\n",
              "      <td>photo</td>\n",
              "      <td>4/18/2018 3:22</td>\n",
              "      <td>213</td>\n",
              "      <td>0</td>\n",
              "      <td>0</td>\n",
              "      <td>204</td>\n",
              "      <td>9</td>\n",
              "      <td>0</td>\n",
              "      <td>0</td>\n",
              "      <td>0</td>\n",
              "      <td>0</td>\n",
              "      <td>NaN</td>\n",
              "      <td>NaN</td>\n",
              "      <td>NaN</td>\n",
              "      <td>NaN</td>\n",
              "    </tr>\n",
              "  </tbody>\n",
              "</table>\n",
              "</div>\n",
              "      <button class=\"colab-df-convert\" onclick=\"convertToInteractive('df-1203de2a-bc7c-4a0e-a225-75586e4acd63')\"\n",
              "              title=\"Convert this dataframe to an interactive table.\"\n",
              "              style=\"display:none;\">\n",
              "        \n",
              "  <svg xmlns=\"http://www.w3.org/2000/svg\" height=\"24px\"viewBox=\"0 0 24 24\"\n",
              "       width=\"24px\">\n",
              "    <path d=\"M0 0h24v24H0V0z\" fill=\"none\"/>\n",
              "    <path d=\"M18.56 5.44l.94 2.06.94-2.06 2.06-.94-2.06-.94-.94-2.06-.94 2.06-2.06.94zm-11 1L8.5 8.5l.94-2.06 2.06-.94-2.06-.94L8.5 2.5l-.94 2.06-2.06.94zm10 10l.94 2.06.94-2.06 2.06-.94-2.06-.94-.94-2.06-.94 2.06-2.06.94z\"/><path d=\"M17.41 7.96l-1.37-1.37c-.4-.4-.92-.59-1.43-.59-.52 0-1.04.2-1.43.59L10.3 9.45l-7.72 7.72c-.78.78-.78 2.05 0 2.83L4 21.41c.39.39.9.59 1.41.59.51 0 1.02-.2 1.41-.59l7.78-7.78 2.81-2.81c.8-.78.8-2.07 0-2.86zM5.41 20L4 18.59l7.72-7.72 1.47 1.35L5.41 20z\"/>\n",
              "  </svg>\n",
              "      </button>\n",
              "      \n",
              "  <style>\n",
              "    .colab-df-container {\n",
              "      display:flex;\n",
              "      flex-wrap:wrap;\n",
              "      gap: 12px;\n",
              "    }\n",
              "\n",
              "    .colab-df-convert {\n",
              "      background-color: #E8F0FE;\n",
              "      border: none;\n",
              "      border-radius: 50%;\n",
              "      cursor: pointer;\n",
              "      display: none;\n",
              "      fill: #1967D2;\n",
              "      height: 32px;\n",
              "      padding: 0 0 0 0;\n",
              "      width: 32px;\n",
              "    }\n",
              "\n",
              "    .colab-df-convert:hover {\n",
              "      background-color: #E2EBFA;\n",
              "      box-shadow: 0px 1px 2px rgba(60, 64, 67, 0.3), 0px 1px 3px 1px rgba(60, 64, 67, 0.15);\n",
              "      fill: #174EA6;\n",
              "    }\n",
              "\n",
              "    [theme=dark] .colab-df-convert {\n",
              "      background-color: #3B4455;\n",
              "      fill: #D2E3FC;\n",
              "    }\n",
              "\n",
              "    [theme=dark] .colab-df-convert:hover {\n",
              "      background-color: #434B5C;\n",
              "      box-shadow: 0px 1px 3px 1px rgba(0, 0, 0, 0.15);\n",
              "      filter: drop-shadow(0px 1px 2px rgba(0, 0, 0, 0.3));\n",
              "      fill: #FFFFFF;\n",
              "    }\n",
              "  </style>\n",
              "\n",
              "      <script>\n",
              "        const buttonEl =\n",
              "          document.querySelector('#df-1203de2a-bc7c-4a0e-a225-75586e4acd63 button.colab-df-convert');\n",
              "        buttonEl.style.display =\n",
              "          google.colab.kernel.accessAllowed ? 'block' : 'none';\n",
              "\n",
              "        async function convertToInteractive(key) {\n",
              "          const element = document.querySelector('#df-1203de2a-bc7c-4a0e-a225-75586e4acd63');\n",
              "          const dataTable =\n",
              "            await google.colab.kernel.invokeFunction('convertToInteractive',\n",
              "                                                     [key], {});\n",
              "          if (!dataTable) return;\n",
              "\n",
              "          const docLinkHtml = 'Like what you see? Visit the ' +\n",
              "            '<a target=\"_blank\" href=https://colab.research.google.com/notebooks/data_table.ipynb>data table notebook</a>'\n",
              "            + ' to learn more about interactive tables.';\n",
              "          element.innerHTML = '';\n",
              "          dataTable['output_type'] = 'display_data';\n",
              "          await google.colab.output.renderOutput(dataTable, element);\n",
              "          const docLink = document.createElement('div');\n",
              "          docLink.innerHTML = docLinkHtml;\n",
              "          element.appendChild(docLink);\n",
              "        }\n",
              "      </script>\n",
              "    </div>\n",
              "  </div>\n",
              "  "
            ]
          },
          "metadata": {},
          "execution_count": 101
        }
      ]
    },
    {
      "cell_type": "code",
      "source": [
        "df.shape #dimensionality"
      ],
      "metadata": {
        "colab": {
          "base_uri": "https://localhost:8080/"
        },
        "id": "-dDIyeaw-hVJ",
        "outputId": "381cf2e1-55bf-495c-b294-9020c524bd7d"
      },
      "execution_count": null,
      "outputs": [
        {
          "output_type": "execute_result",
          "data": {
            "text/plain": [
              "(7050, 16)"
            ]
          },
          "metadata": {},
          "execution_count": 29
        }
      ]
    },
    {
      "cell_type": "code",
      "source": [
        "df.info()"
      ],
      "metadata": {
        "colab": {
          "base_uri": "https://localhost:8080/"
        },
        "id": "qZQ7j1to1ENd",
        "outputId": "f8691933-3b49-403e-e732-149ca4e410e6"
      },
      "execution_count": null,
      "outputs": [
        {
          "output_type": "stream",
          "name": "stdout",
          "text": [
            "<class 'pandas.core.frame.DataFrame'>\n",
            "RangeIndex: 7050 entries, 0 to 7049\n",
            "Data columns (total 16 columns):\n",
            " #   Column            Non-Null Count  Dtype  \n",
            "---  ------            --------------  -----  \n",
            " 0   status_id         7050 non-null   int64  \n",
            " 1   status_type       7050 non-null   object \n",
            " 2   status_published  7050 non-null   object \n",
            " 3   num_reactions     7050 non-null   int64  \n",
            " 4   num_comments      7050 non-null   int64  \n",
            " 5   num_shares        7050 non-null   int64  \n",
            " 6   num_likes         7050 non-null   int64  \n",
            " 7   num_loves         7050 non-null   int64  \n",
            " 8   num_wows          7050 non-null   int64  \n",
            " 9   num_hahas         7050 non-null   int64  \n",
            " 10  num_sads          7050 non-null   int64  \n",
            " 11  num_angrys        7050 non-null   int64  \n",
            " 12  Column1           0 non-null      float64\n",
            " 13  Column2           0 non-null      float64\n",
            " 14  Column3           0 non-null      float64\n",
            " 15  Column4           0 non-null      float64\n",
            "dtypes: float64(4), int64(10), object(2)\n",
            "memory usage: 881.4+ KB\n"
          ]
        }
      ]
    },
    {
      "cell_type": "code",
      "source": [
        "df.isna().sum()"
      ],
      "metadata": {
        "colab": {
          "base_uri": "https://localhost:8080/"
        },
        "id": "kGd0AKqL1NHX",
        "outputId": "a9702314-be5c-43cd-82dc-7f3108b01a5f"
      },
      "execution_count": null,
      "outputs": [
        {
          "output_type": "execute_result",
          "data": {
            "text/plain": [
              "status_id              0\n",
              "status_type            0\n",
              "status_published       0\n",
              "num_reactions          0\n",
              "num_comments           0\n",
              "num_shares             0\n",
              "num_likes              0\n",
              "num_loves              0\n",
              "num_wows               0\n",
              "num_hahas              0\n",
              "num_sads               0\n",
              "num_angrys             0\n",
              "Column1             7050\n",
              "Column2             7050\n",
              "Column3             7050\n",
              "Column4             7050\n",
              "dtype: int64"
            ]
          },
          "metadata": {},
          "execution_count": 31
        }
      ]
    },
    {
      "cell_type": "code",
      "source": [
        "df.describe()"
      ],
      "metadata": {
        "colab": {
          "base_uri": "https://localhost:8080/",
          "height": 300
        },
        "id": "6wCKIBXN1VaT",
        "outputId": "d8d775d6-8230-4fac-a7ab-c672bced1e49"
      },
      "execution_count": null,
      "outputs": [
        {
          "output_type": "execute_result",
          "data": {
            "text/plain": [
              "         status_id  num_reactions  num_comments   num_shares    num_likes  \\\n",
              "count  7050.000000    7050.000000   7050.000000  7050.000000  7050.000000   \n",
              "mean   3525.500000     230.117163    224.356028    40.022553   215.043121   \n",
              "std    2035.304031     462.625309    889.636820   131.599965   449.472357   \n",
              "min       1.000000       0.000000      0.000000     0.000000     0.000000   \n",
              "25%    1763.250000      17.000000      0.000000     0.000000    17.000000   \n",
              "50%    3525.500000      59.500000      4.000000     0.000000    58.000000   \n",
              "75%    5287.750000     219.000000     23.000000     4.000000   184.750000   \n",
              "max    7050.000000    4710.000000  20990.000000  3424.000000  4710.000000   \n",
              "\n",
              "         num_loves     num_wows    num_hahas     num_sads   num_angrys  \\\n",
              "count  7050.000000  7050.000000  7050.000000  7050.000000  7050.000000   \n",
              "mean     12.728652     1.289362     0.696454     0.243688     0.113191   \n",
              "std      39.972930     8.719650     3.957183     1.597156     0.726812   \n",
              "min       0.000000     0.000000     0.000000     0.000000     0.000000   \n",
              "25%       0.000000     0.000000     0.000000     0.000000     0.000000   \n",
              "50%       0.000000     0.000000     0.000000     0.000000     0.000000   \n",
              "75%       3.000000     0.000000     0.000000     0.000000     0.000000   \n",
              "max     657.000000   278.000000   157.000000    51.000000    31.000000   \n",
              "\n",
              "       Column1  Column2  Column3  Column4  \n",
              "count      0.0      0.0      0.0      0.0  \n",
              "mean       NaN      NaN      NaN      NaN  \n",
              "std        NaN      NaN      NaN      NaN  \n",
              "min        NaN      NaN      NaN      NaN  \n",
              "25%        NaN      NaN      NaN      NaN  \n",
              "50%        NaN      NaN      NaN      NaN  \n",
              "75%        NaN      NaN      NaN      NaN  \n",
              "max        NaN      NaN      NaN      NaN  "
            ],
            "text/html": [
              "\n",
              "  <div id=\"df-6791e4c1-617d-4113-9996-2a804c549525\">\n",
              "    <div class=\"colab-df-container\">\n",
              "      <div>\n",
              "<style scoped>\n",
              "    .dataframe tbody tr th:only-of-type {\n",
              "        vertical-align: middle;\n",
              "    }\n",
              "\n",
              "    .dataframe tbody tr th {\n",
              "        vertical-align: top;\n",
              "    }\n",
              "\n",
              "    .dataframe thead th {\n",
              "        text-align: right;\n",
              "    }\n",
              "</style>\n",
              "<table border=\"1\" class=\"dataframe\">\n",
              "  <thead>\n",
              "    <tr style=\"text-align: right;\">\n",
              "      <th></th>\n",
              "      <th>status_id</th>\n",
              "      <th>num_reactions</th>\n",
              "      <th>num_comments</th>\n",
              "      <th>num_shares</th>\n",
              "      <th>num_likes</th>\n",
              "      <th>num_loves</th>\n",
              "      <th>num_wows</th>\n",
              "      <th>num_hahas</th>\n",
              "      <th>num_sads</th>\n",
              "      <th>num_angrys</th>\n",
              "      <th>Column1</th>\n",
              "      <th>Column2</th>\n",
              "      <th>Column3</th>\n",
              "      <th>Column4</th>\n",
              "    </tr>\n",
              "  </thead>\n",
              "  <tbody>\n",
              "    <tr>\n",
              "      <th>count</th>\n",
              "      <td>7050.000000</td>\n",
              "      <td>7050.000000</td>\n",
              "      <td>7050.000000</td>\n",
              "      <td>7050.000000</td>\n",
              "      <td>7050.000000</td>\n",
              "      <td>7050.000000</td>\n",
              "      <td>7050.000000</td>\n",
              "      <td>7050.000000</td>\n",
              "      <td>7050.000000</td>\n",
              "      <td>7050.000000</td>\n",
              "      <td>0.0</td>\n",
              "      <td>0.0</td>\n",
              "      <td>0.0</td>\n",
              "      <td>0.0</td>\n",
              "    </tr>\n",
              "    <tr>\n",
              "      <th>mean</th>\n",
              "      <td>3525.500000</td>\n",
              "      <td>230.117163</td>\n",
              "      <td>224.356028</td>\n",
              "      <td>40.022553</td>\n",
              "      <td>215.043121</td>\n",
              "      <td>12.728652</td>\n",
              "      <td>1.289362</td>\n",
              "      <td>0.696454</td>\n",
              "      <td>0.243688</td>\n",
              "      <td>0.113191</td>\n",
              "      <td>NaN</td>\n",
              "      <td>NaN</td>\n",
              "      <td>NaN</td>\n",
              "      <td>NaN</td>\n",
              "    </tr>\n",
              "    <tr>\n",
              "      <th>std</th>\n",
              "      <td>2035.304031</td>\n",
              "      <td>462.625309</td>\n",
              "      <td>889.636820</td>\n",
              "      <td>131.599965</td>\n",
              "      <td>449.472357</td>\n",
              "      <td>39.972930</td>\n",
              "      <td>8.719650</td>\n",
              "      <td>3.957183</td>\n",
              "      <td>1.597156</td>\n",
              "      <td>0.726812</td>\n",
              "      <td>NaN</td>\n",
              "      <td>NaN</td>\n",
              "      <td>NaN</td>\n",
              "      <td>NaN</td>\n",
              "    </tr>\n",
              "    <tr>\n",
              "      <th>min</th>\n",
              "      <td>1.000000</td>\n",
              "      <td>0.000000</td>\n",
              "      <td>0.000000</td>\n",
              "      <td>0.000000</td>\n",
              "      <td>0.000000</td>\n",
              "      <td>0.000000</td>\n",
              "      <td>0.000000</td>\n",
              "      <td>0.000000</td>\n",
              "      <td>0.000000</td>\n",
              "      <td>0.000000</td>\n",
              "      <td>NaN</td>\n",
              "      <td>NaN</td>\n",
              "      <td>NaN</td>\n",
              "      <td>NaN</td>\n",
              "    </tr>\n",
              "    <tr>\n",
              "      <th>25%</th>\n",
              "      <td>1763.250000</td>\n",
              "      <td>17.000000</td>\n",
              "      <td>0.000000</td>\n",
              "      <td>0.000000</td>\n",
              "      <td>17.000000</td>\n",
              "      <td>0.000000</td>\n",
              "      <td>0.000000</td>\n",
              "      <td>0.000000</td>\n",
              "      <td>0.000000</td>\n",
              "      <td>0.000000</td>\n",
              "      <td>NaN</td>\n",
              "      <td>NaN</td>\n",
              "      <td>NaN</td>\n",
              "      <td>NaN</td>\n",
              "    </tr>\n",
              "    <tr>\n",
              "      <th>50%</th>\n",
              "      <td>3525.500000</td>\n",
              "      <td>59.500000</td>\n",
              "      <td>4.000000</td>\n",
              "      <td>0.000000</td>\n",
              "      <td>58.000000</td>\n",
              "      <td>0.000000</td>\n",
              "      <td>0.000000</td>\n",
              "      <td>0.000000</td>\n",
              "      <td>0.000000</td>\n",
              "      <td>0.000000</td>\n",
              "      <td>NaN</td>\n",
              "      <td>NaN</td>\n",
              "      <td>NaN</td>\n",
              "      <td>NaN</td>\n",
              "    </tr>\n",
              "    <tr>\n",
              "      <th>75%</th>\n",
              "      <td>5287.750000</td>\n",
              "      <td>219.000000</td>\n",
              "      <td>23.000000</td>\n",
              "      <td>4.000000</td>\n",
              "      <td>184.750000</td>\n",
              "      <td>3.000000</td>\n",
              "      <td>0.000000</td>\n",
              "      <td>0.000000</td>\n",
              "      <td>0.000000</td>\n",
              "      <td>0.000000</td>\n",
              "      <td>NaN</td>\n",
              "      <td>NaN</td>\n",
              "      <td>NaN</td>\n",
              "      <td>NaN</td>\n",
              "    </tr>\n",
              "    <tr>\n",
              "      <th>max</th>\n",
              "      <td>7050.000000</td>\n",
              "      <td>4710.000000</td>\n",
              "      <td>20990.000000</td>\n",
              "      <td>3424.000000</td>\n",
              "      <td>4710.000000</td>\n",
              "      <td>657.000000</td>\n",
              "      <td>278.000000</td>\n",
              "      <td>157.000000</td>\n",
              "      <td>51.000000</td>\n",
              "      <td>31.000000</td>\n",
              "      <td>NaN</td>\n",
              "      <td>NaN</td>\n",
              "      <td>NaN</td>\n",
              "      <td>NaN</td>\n",
              "    </tr>\n",
              "  </tbody>\n",
              "</table>\n",
              "</div>\n",
              "      <button class=\"colab-df-convert\" onclick=\"convertToInteractive('df-6791e4c1-617d-4113-9996-2a804c549525')\"\n",
              "              title=\"Convert this dataframe to an interactive table.\"\n",
              "              style=\"display:none;\">\n",
              "        \n",
              "  <svg xmlns=\"http://www.w3.org/2000/svg\" height=\"24px\"viewBox=\"0 0 24 24\"\n",
              "       width=\"24px\">\n",
              "    <path d=\"M0 0h24v24H0V0z\" fill=\"none\"/>\n",
              "    <path d=\"M18.56 5.44l.94 2.06.94-2.06 2.06-.94-2.06-.94-.94-2.06-.94 2.06-2.06.94zm-11 1L8.5 8.5l.94-2.06 2.06-.94-2.06-.94L8.5 2.5l-.94 2.06-2.06.94zm10 10l.94 2.06.94-2.06 2.06-.94-2.06-.94-.94-2.06-.94 2.06-2.06.94z\"/><path d=\"M17.41 7.96l-1.37-1.37c-.4-.4-.92-.59-1.43-.59-.52 0-1.04.2-1.43.59L10.3 9.45l-7.72 7.72c-.78.78-.78 2.05 0 2.83L4 21.41c.39.39.9.59 1.41.59.51 0 1.02-.2 1.41-.59l7.78-7.78 2.81-2.81c.8-.78.8-2.07 0-2.86zM5.41 20L4 18.59l7.72-7.72 1.47 1.35L5.41 20z\"/>\n",
              "  </svg>\n",
              "      </button>\n",
              "      \n",
              "  <style>\n",
              "    .colab-df-container {\n",
              "      display:flex;\n",
              "      flex-wrap:wrap;\n",
              "      gap: 12px;\n",
              "    }\n",
              "\n",
              "    .colab-df-convert {\n",
              "      background-color: #E8F0FE;\n",
              "      border: none;\n",
              "      border-radius: 50%;\n",
              "      cursor: pointer;\n",
              "      display: none;\n",
              "      fill: #1967D2;\n",
              "      height: 32px;\n",
              "      padding: 0 0 0 0;\n",
              "      width: 32px;\n",
              "    }\n",
              "\n",
              "    .colab-df-convert:hover {\n",
              "      background-color: #E2EBFA;\n",
              "      box-shadow: 0px 1px 2px rgba(60, 64, 67, 0.3), 0px 1px 3px 1px rgba(60, 64, 67, 0.15);\n",
              "      fill: #174EA6;\n",
              "    }\n",
              "\n",
              "    [theme=dark] .colab-df-convert {\n",
              "      background-color: #3B4455;\n",
              "      fill: #D2E3FC;\n",
              "    }\n",
              "\n",
              "    [theme=dark] .colab-df-convert:hover {\n",
              "      background-color: #434B5C;\n",
              "      box-shadow: 0px 1px 3px 1px rgba(0, 0, 0, 0.15);\n",
              "      filter: drop-shadow(0px 1px 2px rgba(0, 0, 0, 0.3));\n",
              "      fill: #FFFFFF;\n",
              "    }\n",
              "  </style>\n",
              "\n",
              "      <script>\n",
              "        const buttonEl =\n",
              "          document.querySelector('#df-6791e4c1-617d-4113-9996-2a804c549525 button.colab-df-convert');\n",
              "        buttonEl.style.display =\n",
              "          google.colab.kernel.accessAllowed ? 'block' : 'none';\n",
              "\n",
              "        async function convertToInteractive(key) {\n",
              "          const element = document.querySelector('#df-6791e4c1-617d-4113-9996-2a804c549525');\n",
              "          const dataTable =\n",
              "            await google.colab.kernel.invokeFunction('convertToInteractive',\n",
              "                                                     [key], {});\n",
              "          if (!dataTable) return;\n",
              "\n",
              "          const docLinkHtml = 'Like what you see? Visit the ' +\n",
              "            '<a target=\"_blank\" href=https://colab.research.google.com/notebooks/data_table.ipynb>data table notebook</a>'\n",
              "            + ' to learn more about interactive tables.';\n",
              "          element.innerHTML = '';\n",
              "          dataTable['output_type'] = 'display_data';\n",
              "          await google.colab.output.renderOutput(dataTable, element);\n",
              "          const docLink = document.createElement('div');\n",
              "          docLink.innerHTML = docLinkHtml;\n",
              "          element.appendChild(docLink);\n",
              "        }\n",
              "      </script>\n",
              "    </div>\n",
              "  </div>\n",
              "  "
            ]
          },
          "metadata": {},
          "execution_count": 32
        }
      ]
    },
    {
      "cell_type": "markdown",
      "source": [
        "\n",
        "We can see that the last 4 rows do not have information, so it would be convenient to drop them, we also see that most of the columns have information in integers. On the other hand, it would also be convenient to convert the date column into datetime(Podemos observar que las ultimas 4 filas no poseen información por lo cual sería conveniente dropearlas, además observamos que la mayoria de las columnas tienen información en enteros. Por otro lado también seria convieniente convertir la columna fecha en datetime)"
      ],
      "metadata": {
        "id": "xden-y051aS8"
      }
    },
    {
      "cell_type": "code",
      "source": [
        "df['status_published'] = pd.DataFrame(data=df, columns=['status_published'])\n",
        "df['status_published']=pd.to_datetime(df['status_published'],format='%m/%d/%Y %H:%M')"
      ],
      "metadata": {
        "id": "tQAZ4FVS-s1k"
      },
      "execution_count": null,
      "outputs": []
    },
    {
      "cell_type": "code",
      "source": [
        "df['month'] = df['status_published'].apply(lambda x: x.month)\n",
        "df['day'] = df['status_published'].apply(lambda x: x.day)\n",
        "df['year'] = df['status_published'].apply(lambda x: x.year)\n",
        "df['hour'] = df['status_published'].apply(lambda x: x.hour)\n",
        "df['minute'] = df['status_published'].apply(lambda x: x.minute)"
      ],
      "metadata": {
        "id": "Ucuuqr4wAZE4"
      },
      "execution_count": null,
      "outputs": []
    },
    {
      "cell_type": "code",
      "source": [
        "df.drop_duplicates()"
      ],
      "metadata": {
        "colab": {
          "base_uri": "https://localhost:8080/",
          "height": 467
        },
        "id": "NF1_p-3YC7mo",
        "outputId": "353645d2-7d16-4e26-8e7f-3a89678dd4e7"
      },
      "execution_count": null,
      "outputs": [
        {
          "output_type": "execute_result",
          "data": {
            "text/plain": [
              "      status_id status_type    status_published  num_reactions  num_comments  \\\n",
              "0             1       video 2018-04-22 06:00:00            529           512   \n",
              "1             2       photo 2018-04-21 22:45:00            150             0   \n",
              "2             3       video 2018-04-21 06:17:00            227           236   \n",
              "3             4       photo 2018-04-21 02:29:00            111             0   \n",
              "4             5       photo 2018-04-18 03:22:00            213             0   \n",
              "...         ...         ...                 ...            ...           ...   \n",
              "7045       7046       photo 2016-09-24 02:58:00             89             0   \n",
              "7046       7047       photo 2016-09-23 11:19:00             16             0   \n",
              "7047       7048       photo 2016-09-21 23:03:00              2             0   \n",
              "7048       7049       photo 2016-09-20 00:43:00            351            12   \n",
              "7049       7050       photo 2016-09-10 10:30:00             17             0   \n",
              "\n",
              "      num_shares  num_likes  num_loves  num_wows  num_hahas  ...  num_angrys  \\\n",
              "0            262        432         92         3          1  ...           0   \n",
              "1              0        150          0         0          0  ...           0   \n",
              "2             57        204         21         1          1  ...           0   \n",
              "3              0        111          0         0          0  ...           0   \n",
              "4              0        204          9         0          0  ...           0   \n",
              "...          ...        ...        ...       ...        ...  ...         ...   \n",
              "7045           0         89          0         0          0  ...           0   \n",
              "7046           0         14          1         0          1  ...           0   \n",
              "7047           0          1          1         0          0  ...           0   \n",
              "7048          22        349          2         0          0  ...           0   \n",
              "7049           0         17          0         0          0  ...           0   \n",
              "\n",
              "      Column1  Column2  Column3  Column4  month  day  year  hour  minute  \n",
              "0         NaN      NaN      NaN      NaN      4   22  2018     6       0  \n",
              "1         NaN      NaN      NaN      NaN      4   21  2018    22      45  \n",
              "2         NaN      NaN      NaN      NaN      4   21  2018     6      17  \n",
              "3         NaN      NaN      NaN      NaN      4   21  2018     2      29  \n",
              "4         NaN      NaN      NaN      NaN      4   18  2018     3      22  \n",
              "...       ...      ...      ...      ...    ...  ...   ...   ...     ...  \n",
              "7045      NaN      NaN      NaN      NaN      9   24  2016     2      58  \n",
              "7046      NaN      NaN      NaN      NaN      9   23  2016    11      19  \n",
              "7047      NaN      NaN      NaN      NaN      9   21  2016    23       3  \n",
              "7048      NaN      NaN      NaN      NaN      9   20  2016     0      43  \n",
              "7049      NaN      NaN      NaN      NaN      9   10  2016    10      30  \n",
              "\n",
              "[7050 rows x 21 columns]"
            ],
            "text/html": [
              "\n",
              "  <div id=\"df-f23e6b27-aa7b-406b-aed2-9699a75ac6e9\">\n",
              "    <div class=\"colab-df-container\">\n",
              "      <div>\n",
              "<style scoped>\n",
              "    .dataframe tbody tr th:only-of-type {\n",
              "        vertical-align: middle;\n",
              "    }\n",
              "\n",
              "    .dataframe tbody tr th {\n",
              "        vertical-align: top;\n",
              "    }\n",
              "\n",
              "    .dataframe thead th {\n",
              "        text-align: right;\n",
              "    }\n",
              "</style>\n",
              "<table border=\"1\" class=\"dataframe\">\n",
              "  <thead>\n",
              "    <tr style=\"text-align: right;\">\n",
              "      <th></th>\n",
              "      <th>status_id</th>\n",
              "      <th>status_type</th>\n",
              "      <th>status_published</th>\n",
              "      <th>num_reactions</th>\n",
              "      <th>num_comments</th>\n",
              "      <th>num_shares</th>\n",
              "      <th>num_likes</th>\n",
              "      <th>num_loves</th>\n",
              "      <th>num_wows</th>\n",
              "      <th>num_hahas</th>\n",
              "      <th>...</th>\n",
              "      <th>num_angrys</th>\n",
              "      <th>Column1</th>\n",
              "      <th>Column2</th>\n",
              "      <th>Column3</th>\n",
              "      <th>Column4</th>\n",
              "      <th>month</th>\n",
              "      <th>day</th>\n",
              "      <th>year</th>\n",
              "      <th>hour</th>\n",
              "      <th>minute</th>\n",
              "    </tr>\n",
              "  </thead>\n",
              "  <tbody>\n",
              "    <tr>\n",
              "      <th>0</th>\n",
              "      <td>1</td>\n",
              "      <td>video</td>\n",
              "      <td>2018-04-22 06:00:00</td>\n",
              "      <td>529</td>\n",
              "      <td>512</td>\n",
              "      <td>262</td>\n",
              "      <td>432</td>\n",
              "      <td>92</td>\n",
              "      <td>3</td>\n",
              "      <td>1</td>\n",
              "      <td>...</td>\n",
              "      <td>0</td>\n",
              "      <td>NaN</td>\n",
              "      <td>NaN</td>\n",
              "      <td>NaN</td>\n",
              "      <td>NaN</td>\n",
              "      <td>4</td>\n",
              "      <td>22</td>\n",
              "      <td>2018</td>\n",
              "      <td>6</td>\n",
              "      <td>0</td>\n",
              "    </tr>\n",
              "    <tr>\n",
              "      <th>1</th>\n",
              "      <td>2</td>\n",
              "      <td>photo</td>\n",
              "      <td>2018-04-21 22:45:00</td>\n",
              "      <td>150</td>\n",
              "      <td>0</td>\n",
              "      <td>0</td>\n",
              "      <td>150</td>\n",
              "      <td>0</td>\n",
              "      <td>0</td>\n",
              "      <td>0</td>\n",
              "      <td>...</td>\n",
              "      <td>0</td>\n",
              "      <td>NaN</td>\n",
              "      <td>NaN</td>\n",
              "      <td>NaN</td>\n",
              "      <td>NaN</td>\n",
              "      <td>4</td>\n",
              "      <td>21</td>\n",
              "      <td>2018</td>\n",
              "      <td>22</td>\n",
              "      <td>45</td>\n",
              "    </tr>\n",
              "    <tr>\n",
              "      <th>2</th>\n",
              "      <td>3</td>\n",
              "      <td>video</td>\n",
              "      <td>2018-04-21 06:17:00</td>\n",
              "      <td>227</td>\n",
              "      <td>236</td>\n",
              "      <td>57</td>\n",
              "      <td>204</td>\n",
              "      <td>21</td>\n",
              "      <td>1</td>\n",
              "      <td>1</td>\n",
              "      <td>...</td>\n",
              "      <td>0</td>\n",
              "      <td>NaN</td>\n",
              "      <td>NaN</td>\n",
              "      <td>NaN</td>\n",
              "      <td>NaN</td>\n",
              "      <td>4</td>\n",
              "      <td>21</td>\n",
              "      <td>2018</td>\n",
              "      <td>6</td>\n",
              "      <td>17</td>\n",
              "    </tr>\n",
              "    <tr>\n",
              "      <th>3</th>\n",
              "      <td>4</td>\n",
              "      <td>photo</td>\n",
              "      <td>2018-04-21 02:29:00</td>\n",
              "      <td>111</td>\n",
              "      <td>0</td>\n",
              "      <td>0</td>\n",
              "      <td>111</td>\n",
              "      <td>0</td>\n",
              "      <td>0</td>\n",
              "      <td>0</td>\n",
              "      <td>...</td>\n",
              "      <td>0</td>\n",
              "      <td>NaN</td>\n",
              "      <td>NaN</td>\n",
              "      <td>NaN</td>\n",
              "      <td>NaN</td>\n",
              "      <td>4</td>\n",
              "      <td>21</td>\n",
              "      <td>2018</td>\n",
              "      <td>2</td>\n",
              "      <td>29</td>\n",
              "    </tr>\n",
              "    <tr>\n",
              "      <th>4</th>\n",
              "      <td>5</td>\n",
              "      <td>photo</td>\n",
              "      <td>2018-04-18 03:22:00</td>\n",
              "      <td>213</td>\n",
              "      <td>0</td>\n",
              "      <td>0</td>\n",
              "      <td>204</td>\n",
              "      <td>9</td>\n",
              "      <td>0</td>\n",
              "      <td>0</td>\n",
              "      <td>...</td>\n",
              "      <td>0</td>\n",
              "      <td>NaN</td>\n",
              "      <td>NaN</td>\n",
              "      <td>NaN</td>\n",
              "      <td>NaN</td>\n",
              "      <td>4</td>\n",
              "      <td>18</td>\n",
              "      <td>2018</td>\n",
              "      <td>3</td>\n",
              "      <td>22</td>\n",
              "    </tr>\n",
              "    <tr>\n",
              "      <th>...</th>\n",
              "      <td>...</td>\n",
              "      <td>...</td>\n",
              "      <td>...</td>\n",
              "      <td>...</td>\n",
              "      <td>...</td>\n",
              "      <td>...</td>\n",
              "      <td>...</td>\n",
              "      <td>...</td>\n",
              "      <td>...</td>\n",
              "      <td>...</td>\n",
              "      <td>...</td>\n",
              "      <td>...</td>\n",
              "      <td>...</td>\n",
              "      <td>...</td>\n",
              "      <td>...</td>\n",
              "      <td>...</td>\n",
              "      <td>...</td>\n",
              "      <td>...</td>\n",
              "      <td>...</td>\n",
              "      <td>...</td>\n",
              "      <td>...</td>\n",
              "    </tr>\n",
              "    <tr>\n",
              "      <th>7045</th>\n",
              "      <td>7046</td>\n",
              "      <td>photo</td>\n",
              "      <td>2016-09-24 02:58:00</td>\n",
              "      <td>89</td>\n",
              "      <td>0</td>\n",
              "      <td>0</td>\n",
              "      <td>89</td>\n",
              "      <td>0</td>\n",
              "      <td>0</td>\n",
              "      <td>0</td>\n",
              "      <td>...</td>\n",
              "      <td>0</td>\n",
              "      <td>NaN</td>\n",
              "      <td>NaN</td>\n",
              "      <td>NaN</td>\n",
              "      <td>NaN</td>\n",
              "      <td>9</td>\n",
              "      <td>24</td>\n",
              "      <td>2016</td>\n",
              "      <td>2</td>\n",
              "      <td>58</td>\n",
              "    </tr>\n",
              "    <tr>\n",
              "      <th>7046</th>\n",
              "      <td>7047</td>\n",
              "      <td>photo</td>\n",
              "      <td>2016-09-23 11:19:00</td>\n",
              "      <td>16</td>\n",
              "      <td>0</td>\n",
              "      <td>0</td>\n",
              "      <td>14</td>\n",
              "      <td>1</td>\n",
              "      <td>0</td>\n",
              "      <td>1</td>\n",
              "      <td>...</td>\n",
              "      <td>0</td>\n",
              "      <td>NaN</td>\n",
              "      <td>NaN</td>\n",
              "      <td>NaN</td>\n",
              "      <td>NaN</td>\n",
              "      <td>9</td>\n",
              "      <td>23</td>\n",
              "      <td>2016</td>\n",
              "      <td>11</td>\n",
              "      <td>19</td>\n",
              "    </tr>\n",
              "    <tr>\n",
              "      <th>7047</th>\n",
              "      <td>7048</td>\n",
              "      <td>photo</td>\n",
              "      <td>2016-09-21 23:03:00</td>\n",
              "      <td>2</td>\n",
              "      <td>0</td>\n",
              "      <td>0</td>\n",
              "      <td>1</td>\n",
              "      <td>1</td>\n",
              "      <td>0</td>\n",
              "      <td>0</td>\n",
              "      <td>...</td>\n",
              "      <td>0</td>\n",
              "      <td>NaN</td>\n",
              "      <td>NaN</td>\n",
              "      <td>NaN</td>\n",
              "      <td>NaN</td>\n",
              "      <td>9</td>\n",
              "      <td>21</td>\n",
              "      <td>2016</td>\n",
              "      <td>23</td>\n",
              "      <td>3</td>\n",
              "    </tr>\n",
              "    <tr>\n",
              "      <th>7048</th>\n",
              "      <td>7049</td>\n",
              "      <td>photo</td>\n",
              "      <td>2016-09-20 00:43:00</td>\n",
              "      <td>351</td>\n",
              "      <td>12</td>\n",
              "      <td>22</td>\n",
              "      <td>349</td>\n",
              "      <td>2</td>\n",
              "      <td>0</td>\n",
              "      <td>0</td>\n",
              "      <td>...</td>\n",
              "      <td>0</td>\n",
              "      <td>NaN</td>\n",
              "      <td>NaN</td>\n",
              "      <td>NaN</td>\n",
              "      <td>NaN</td>\n",
              "      <td>9</td>\n",
              "      <td>20</td>\n",
              "      <td>2016</td>\n",
              "      <td>0</td>\n",
              "      <td>43</td>\n",
              "    </tr>\n",
              "    <tr>\n",
              "      <th>7049</th>\n",
              "      <td>7050</td>\n",
              "      <td>photo</td>\n",
              "      <td>2016-09-10 10:30:00</td>\n",
              "      <td>17</td>\n",
              "      <td>0</td>\n",
              "      <td>0</td>\n",
              "      <td>17</td>\n",
              "      <td>0</td>\n",
              "      <td>0</td>\n",
              "      <td>0</td>\n",
              "      <td>...</td>\n",
              "      <td>0</td>\n",
              "      <td>NaN</td>\n",
              "      <td>NaN</td>\n",
              "      <td>NaN</td>\n",
              "      <td>NaN</td>\n",
              "      <td>9</td>\n",
              "      <td>10</td>\n",
              "      <td>2016</td>\n",
              "      <td>10</td>\n",
              "      <td>30</td>\n",
              "    </tr>\n",
              "  </tbody>\n",
              "</table>\n",
              "<p>7050 rows × 21 columns</p>\n",
              "</div>\n",
              "      <button class=\"colab-df-convert\" onclick=\"convertToInteractive('df-f23e6b27-aa7b-406b-aed2-9699a75ac6e9')\"\n",
              "              title=\"Convert this dataframe to an interactive table.\"\n",
              "              style=\"display:none;\">\n",
              "        \n",
              "  <svg xmlns=\"http://www.w3.org/2000/svg\" height=\"24px\"viewBox=\"0 0 24 24\"\n",
              "       width=\"24px\">\n",
              "    <path d=\"M0 0h24v24H0V0z\" fill=\"none\"/>\n",
              "    <path d=\"M18.56 5.44l.94 2.06.94-2.06 2.06-.94-2.06-.94-.94-2.06-.94 2.06-2.06.94zm-11 1L8.5 8.5l.94-2.06 2.06-.94-2.06-.94L8.5 2.5l-.94 2.06-2.06.94zm10 10l.94 2.06.94-2.06 2.06-.94-2.06-.94-.94-2.06-.94 2.06-2.06.94z\"/><path d=\"M17.41 7.96l-1.37-1.37c-.4-.4-.92-.59-1.43-.59-.52 0-1.04.2-1.43.59L10.3 9.45l-7.72 7.72c-.78.78-.78 2.05 0 2.83L4 21.41c.39.39.9.59 1.41.59.51 0 1.02-.2 1.41-.59l7.78-7.78 2.81-2.81c.8-.78.8-2.07 0-2.86zM5.41 20L4 18.59l7.72-7.72 1.47 1.35L5.41 20z\"/>\n",
              "  </svg>\n",
              "      </button>\n",
              "      \n",
              "  <style>\n",
              "    .colab-df-container {\n",
              "      display:flex;\n",
              "      flex-wrap:wrap;\n",
              "      gap: 12px;\n",
              "    }\n",
              "\n",
              "    .colab-df-convert {\n",
              "      background-color: #E8F0FE;\n",
              "      border: none;\n",
              "      border-radius: 50%;\n",
              "      cursor: pointer;\n",
              "      display: none;\n",
              "      fill: #1967D2;\n",
              "      height: 32px;\n",
              "      padding: 0 0 0 0;\n",
              "      width: 32px;\n",
              "    }\n",
              "\n",
              "    .colab-df-convert:hover {\n",
              "      background-color: #E2EBFA;\n",
              "      box-shadow: 0px 1px 2px rgba(60, 64, 67, 0.3), 0px 1px 3px 1px rgba(60, 64, 67, 0.15);\n",
              "      fill: #174EA6;\n",
              "    }\n",
              "\n",
              "    [theme=dark] .colab-df-convert {\n",
              "      background-color: #3B4455;\n",
              "      fill: #D2E3FC;\n",
              "    }\n",
              "\n",
              "    [theme=dark] .colab-df-convert:hover {\n",
              "      background-color: #434B5C;\n",
              "      box-shadow: 0px 1px 3px 1px rgba(0, 0, 0, 0.15);\n",
              "      filter: drop-shadow(0px 1px 2px rgba(0, 0, 0, 0.3));\n",
              "      fill: #FFFFFF;\n",
              "    }\n",
              "  </style>\n",
              "\n",
              "      <script>\n",
              "        const buttonEl =\n",
              "          document.querySelector('#df-f23e6b27-aa7b-406b-aed2-9699a75ac6e9 button.colab-df-convert');\n",
              "        buttonEl.style.display =\n",
              "          google.colab.kernel.accessAllowed ? 'block' : 'none';\n",
              "\n",
              "        async function convertToInteractive(key) {\n",
              "          const element = document.querySelector('#df-f23e6b27-aa7b-406b-aed2-9699a75ac6e9');\n",
              "          const dataTable =\n",
              "            await google.colab.kernel.invokeFunction('convertToInteractive',\n",
              "                                                     [key], {});\n",
              "          if (!dataTable) return;\n",
              "\n",
              "          const docLinkHtml = 'Like what you see? Visit the ' +\n",
              "            '<a target=\"_blank\" href=https://colab.research.google.com/notebooks/data_table.ipynb>data table notebook</a>'\n",
              "            + ' to learn more about interactive tables.';\n",
              "          element.innerHTML = '';\n",
              "          dataTable['output_type'] = 'display_data';\n",
              "          await google.colab.output.renderOutput(dataTable, element);\n",
              "          const docLink = document.createElement('div');\n",
              "          docLink.innerHTML = docLinkHtml;\n",
              "          element.appendChild(docLink);\n",
              "        }\n",
              "      </script>\n",
              "    </div>\n",
              "  </div>\n",
              "  "
            ]
          },
          "metadata": {},
          "execution_count": 304
        }
      ]
    },
    {
      "cell_type": "code",
      "source": [
        "df = df.drop(['Column1','Column2','Column3','Column4','status_id'],axis=1 )#drop de unnecessary columns"
      ],
      "metadata": {
        "id": "f6Lm6bfjBOjh"
      },
      "execution_count": null,
      "outputs": []
    },
    {
      "cell_type": "markdown",
      "source": [
        "**EDA**"
      ],
      "metadata": {
        "id": "qOq4Aitx2L-m"
      }
    },
    {
      "cell_type": "code",
      "source": [
        "pl = sns.countplot(x=df[\"status_type\"])\n",
        "pl.set_title(\"Distribution of Posts x Status Type\")\n",
        "plt.show()"
      ],
      "metadata": {
        "colab": {
          "base_uri": "https://localhost:8080/",
          "height": 296
        },
        "id": "lM_rU3tSPsQP",
        "outputId": "2322df96-da83-4f36-c4e3-05b5cf796168"
      },
      "execution_count": null,
      "outputs": [
        {
          "output_type": "display_data",
          "data": {
            "text/plain": [
              "<Figure size 432x288 with 1 Axes>"
            ],
            "image/png": "[encoded data removed]"
          },
          "metadata": {
            "needs_background": "light"
          }
        }
      ]
    },
    {
      "cell_type": "code",
      "source": [
        "df.status_type.value_counts() #photo and video are de highest"
      ],
      "metadata": {
        "colab": {
          "base_uri": "https://localhost:8080/"
        },
        "id": "iW_4t4zHED6c",
        "outputId": "0f965573-8a2c-4a2c-c83a-2971117102cf"
      },
      "execution_count": null,
      "outputs": [
        {
          "output_type": "execute_result",
          "data": {
            "text/plain": [
              "photo     4288\n",
              "video     2334\n",
              "status     365\n",
              "link        63\n",
              "Name: status_type, dtype: int64"
            ]
          },
          "metadata": {},
          "execution_count": 107
        }
      ]
    },
    {
      "cell_type": "code",
      "source": [
        "pl = sns.countplot(x=df[\"day\"])\n",
        "pl.set_title(\"Distribution of Posts x Day of Month\")\n",
        "plt.show() #the thirty one day maybe is lowest because no every month have it"
      ],
      "metadata": {
        "colab": {
          "base_uri": "https://localhost:8080/",
          "height": 295
        },
        "id": "gzCtV1-ETcxU",
        "outputId": "eb710e79-5bb7-4cae-9fea-c9998e8fd669"
      },
      "execution_count": null,
      "outputs": [
        {
          "output_type": "display_data",
          "data": {
            "text/plain": [
              "<Figure size 432x288 with 1 Axes>"
            ],
            "image/png": "[encoded data removed]"
          },
          "metadata": {
            "needs_background": "light"
          }
        }
      ]
    },
    {
      "cell_type": "code",
      "source": [
        "pl = sns.countplot(x=df[\"month\"])\n",
        "pl.set_title(\"Distribution of Posts x Day of Month\")\n",
        "plt.show() #july is the lowest"
      ],
      "metadata": {
        "colab": {
          "base_uri": "https://localhost:8080/",
          "height": 295
        },
        "id": "v19XzlGGTkAO",
        "outputId": "64c7cd8c-9b49-4cf0-ed98-abdad04780e0"
      },
      "execution_count": null,
      "outputs": [
        {
          "output_type": "display_data",
          "data": {
            "text/plain": [
              "<Figure size 432x288 with 1 Axes>"
            ],
            "image/png": "[encoded data removed]"
          },
          "metadata": {
            "needs_background": "light"
          }
        }
      ]
    },
    {
      "cell_type": "code",
      "source": [
        "pl = sns.countplot(x=df[\"hour\"])\n",
        "pl.set_title(\"Distribution of Posts x Hour\")\n",
        "plt.show()#we can see the posts don't usually are posted around 13:00 and 19:00"
      ],
      "metadata": {
        "colab": {
          "base_uri": "https://localhost:8080/",
          "height": 295
        },
        "id": "z4kZvzO6T06L",
        "outputId": "c0371b47-4051-4d3d-d212-f3008dbe99ed"
      },
      "execution_count": null,
      "outputs": [
        {
          "output_type": "display_data",
          "data": {
            "text/plain": [
              "<Figure size 432x288 with 1 Axes>"
            ],
            "image/png": "[encoded data removed]"
          },
          "metadata": {
            "needs_background": "light"
          }
        }
      ]
    },
    {
      "cell_type": "code",
      "source": [
        "pl = sns.countplot(x=df[\"year\"])\n",
        "pl.set_title(\"Distribution of Posts x Year\")\n",
        "plt.show() #we can see 2017 & 2018 are the biggest years posted"
      ],
      "metadata": {
        "colab": {
          "base_uri": "https://localhost:8080/",
          "height": 295
        },
        "id": "AB-R5jlXUDFG",
        "outputId": "59ac1478-5574-41ac-c4fd-2168a9bfe379"
      },
      "execution_count": null,
      "outputs": [
        {
          "output_type": "display_data",
          "data": {
            "text/plain": [
              "<Figure size 432x288 with 1 Axes>"
            ],
            "image/png": "[encoded data removed]"
          },
          "metadata": {
            "needs_background": "light"
          }
        }
      ]
    },
    {
      "cell_type": "code",
      "source": [
        "fig1 = plt.figure(figsize=(15,15))\n",
        "df.corr()\n",
        "plt.title('Matriz de correlacion')\n",
        "sns.heatmap(df.corr(), vmin = -1, vmax = 1, annot=True);#we can see loves, reaction, comments and year are strongly correlated"
      ],
      "metadata": {
        "colab": {
          "base_uri": "https://localhost:8080/",
          "height": 949
        },
        "id": "LYijl_FTJ99z",
        "outputId": "a0c054fa-0bad-4a11-f577-1a3cbcf71f7b"
      },
      "execution_count": null,
      "outputs": [
        {
          "output_type": "display_data",
          "data": {
            "text/plain": [
              "<Figure size 1080x1080 with 2 Axes>"
            ],
            "image/png": "[encoded data removed]"
          },
          "metadata": {
            "needs_background": "light"
          }
        }
      ]
    },
    {
      "cell_type": "markdown",
      "source": [
        "Drop the correlated features(se recomienda evitar tener características correlacionadas en un conjunto de datos, ya que un grupo de características altamente correlacionadas no aportará información adicional (o muy poca), pero aumentará la complejidad del algoritmo, aumentando así el riesgo de errores )"
      ],
      "metadata": {
        "id": "RlTiUQYtVcg6"
      }
    },
    {
      "cell_type": "code",
      "source": [
        "df = df.drop(['num_reactions', 'num_loves', 'year', 'num_comments'], axis=1)"
      ],
      "metadata": {
        "id": "YxMxci_VVcII"
      },
      "execution_count": null,
      "outputs": []
    },
    {
      "cell_type": "code",
      "source": [
        "fig1 = plt.figure(figsize=(15,15))#plot again\n",
        "df.corr()\n",
        "plt.title('Matriz de correlacion')\n",
        "sns.heatmap(df.corr(), vmin = -1, vmax = 1, annot=True);"
      ],
      "metadata": {
        "colab": {
          "base_uri": "https://localhost:8080/",
          "height": 880
        },
        "id": "bRaZ9J9OV2-t",
        "outputId": "89d81368-0c36-462c-fabc-941733e0ae4f"
      },
      "execution_count": null,
      "outputs": [
        {
          "output_type": "display_data",
          "data": {
            "text/plain": [
              "<Figure size 1080x1080 with 2 Axes>"
            ],
            "image/png": "[encoded data removed]"
          },
          "metadata": {
            "needs_background": "light"
          }
        }
      ]
    },
    {
      "cell_type": "code",
      "source": [
        "def DetecciondeOutliers(df): #creo una funcion para detectar outliers en las columnas numericas \n",
        "\n",
        "    avg, std = np.mean(df), np.std(df)\n",
        "    #calculo un corte donde considerare que a partir de alli es un minimo o maximo\n",
        "    corte = std * 3\n",
        "    #establezco minimos y maximos\n",
        "    min, max = avg - corte, avg + corte\n",
        "    #creo 3 listas una contendra los outliers que estan por fuera del minimo establecido, del maximo y la cantidad de outliers en total \n",
        "    outliers_min = [x for x in df if x < min]\n",
        "    outliers_max = [x for x in df if x > max]\n",
        "    outliers_total = [x for x in df if x < min or x > max]\n",
        "\n",
        "    # creo un array sin outliers\n",
        "    sinoutliers = [x for x in df if x > min and x < max]\n",
        "    \n",
        "    print('outliers identificados por debajo del minimo: %d' % len(outliers_min)) \n",
        "    print('outliers identificados por encima del maximo: %d' % len(outliers_max)) \n",
        "    print('Total de outliers identificados: %d' % len(outliers_total)) \n",
        "    print('No poseen outlier: %d' % len(sinoutliers)) \n",
        "    print(\"porcentaje total de outliers: \", round((len(outliers_total) / len(sinoutliers) )*100, 4)) #aqui establezco el total de outliers y le digo que quiero visualizarlo con 4 decimales\n",
        "    \n",
        "    return"
      ],
      "metadata": {
        "id": "F--ft0RxLhxs"
      },
      "execution_count": null,
      "outputs": []
    },
    {
      "cell_type": "code",
      "source": [
        "DetecciondeOutliers(df['num_likes'])"
      ],
      "metadata": {
        "colab": {
          "base_uri": "https://localhost:8080/"
        },
        "id": "U58_Yz-SLuQW",
        "outputId": "6f43b560-93e3-4ea3-82dc-3f6d8858cda1"
      },
      "execution_count": null,
      "outputs": [
        {
          "output_type": "stream",
          "name": "stdout",
          "text": [
            "outliers identificados por debajo del minimo: 0\n",
            "outliers identificados por encima del maximo: 222\n",
            "Total de outliers identificados: 222\n",
            "No poseen outlier: 6828\n",
            "porcentaje total de outliers:  3.2513\n"
          ]
        }
      ]
    },
    {
      "cell_type": "code",
      "source": [
        "DetecciondeOutliers(df['num_hahas'])"
      ],
      "metadata": {
        "colab": {
          "base_uri": "https://localhost:8080/"
        },
        "id": "zgbsmZ3gLy_V",
        "outputId": "80a9ef7a-a8e2-4b69-ed36-0d0e0f34574d"
      },
      "execution_count": null,
      "outputs": [
        {
          "output_type": "stream",
          "name": "stdout",
          "text": [
            "outliers identificados por debajo del minimo: 0\n",
            "outliers identificados por encima del maximo: 66\n",
            "Total de outliers identificados: 66\n",
            "No poseen outlier: 6984\n",
            "porcentaje total de outliers:  0.945\n"
          ]
        }
      ]
    },
    {
      "cell_type": "code",
      "source": [
        "DetecciondeOutliers(df['num_shares'])"
      ],
      "metadata": {
        "colab": {
          "base_uri": "https://localhost:8080/"
        },
        "id": "G2ONrmoHMAfL",
        "outputId": "56bd5f37-5c27-4a51-bfc9-4f1cc519ded8"
      },
      "execution_count": null,
      "outputs": [
        {
          "output_type": "stream",
          "name": "stdout",
          "text": [
            "outliers identificados por debajo del minimo: 0\n",
            "outliers identificados por encima del maximo: 159\n",
            "Total de outliers identificados: 159\n",
            "No poseen outlier: 6891\n",
            "porcentaje total de outliers:  2.3074\n"
          ]
        }
      ]
    },
    {
      "cell_type": "code",
      "source": [
        "DetecciondeOutliers(df['num_sads'])"
      ],
      "metadata": {
        "colab": {
          "base_uri": "https://localhost:8080/"
        },
        "id": "qS4knP4cMLBp",
        "outputId": "d5e9ffea-0095-4492-ad73-13bddce78f94"
      },
      "execution_count": null,
      "outputs": [
        {
          "output_type": "stream",
          "name": "stdout",
          "text": [
            "outliers identificados por debajo del minimo: 0\n",
            "outliers identificados por encima del maximo: 58\n",
            "Total de outliers identificados: 58\n",
            "No poseen outlier: 6992\n",
            "porcentaje total de outliers:  0.8295\n"
          ]
        }
      ]
    },
    {
      "cell_type": "code",
      "source": [
        "DetecciondeOutliers(df['num_angrys'])"
      ],
      "metadata": {
        "colab": {
          "base_uri": "https://localhost:8080/"
        },
        "id": "7wcSYbHvMNyr",
        "outputId": "a49f6197-07d6-4345-e50f-a9b0875cdec2"
      },
      "execution_count": null,
      "outputs": [
        {
          "output_type": "stream",
          "name": "stdout",
          "text": [
            "outliers identificados por debajo del minimo: 0\n",
            "outliers identificados por encima del maximo: 76\n",
            "Total de outliers identificados: 76\n",
            "No poseen outlier: 6974\n",
            "porcentaje total de outliers:  1.0898\n"
          ]
        }
      ]
    },
    {
      "cell_type": "code",
      "source": [
        "DetecciondeOutliers(df['num_wows'])"
      ],
      "metadata": {
        "colab": {
          "base_uri": "https://localhost:8080/"
        },
        "id": "dI0t1kvBMR6O",
        "outputId": "4b11d655-7191-44bf-a0f3-e3ee6de9336e"
      },
      "execution_count": null,
      "outputs": [
        {
          "output_type": "stream",
          "name": "stdout",
          "text": [
            "outliers identificados por debajo del minimo: 0\n",
            "outliers identificados por encima del maximo: 43\n",
            "Total de outliers identificados: 43\n",
            "No poseen outlier: 7007\n",
            "porcentaje total de outliers:  0.6137\n"
          ]
        }
      ]
    },
    {
      "cell_type": "code",
      "source": [
        "X = df\n",
        "y = df['status_type']"
      ],
      "metadata": {
        "id": "DTsWDkE3tL5Q"
      },
      "execution_count": null,
      "outputs": []
    },
    {
      "cell_type": "code",
      "source": [
        "#s_type = {'video': 1,'photo': 2, 'status': 3,'link': 4} #label enoder\n",
        "#df.status_type = [s_type[item] for item in df.status_type]"
      ],
      "metadata": {
        "id": "XasVGM4bOZdE"
      },
      "execution_count": null,
      "outputs": []
    },
    {
      "cell_type": "code",
      "source": [
        "from sklearn.preprocessing import LabelEncoder\n",
        "\n",
        "le = LabelEncoder()\n",
        "\n",
        "X['status_type'] = le.fit_transform(X['status_type'])\n",
        "\n",
        "y = le.transform(y)"
      ],
      "metadata": {
        "id": "6uZDZoyHW0Qa"
      },
      "execution_count": null,
      "outputs": []
    },
    {
      "cell_type": "code",
      "source": [
        "#df = df.drop(['hour', 'month'], axis=1)"
      ],
      "metadata": {
        "id": "v1wWmVAKu0Ie"
      },
      "execution_count": null,
      "outputs": []
    },
    {
      "cell_type": "code",
      "source": [
        "df = df.drop('status_published', axis=1)\n"
      ],
      "metadata": {
        "id": "2qWl4-HrXB9k"
      },
      "execution_count": null,
      "outputs": []
    },
    {
      "cell_type": "code",
      "source": [
        "X = X.drop('status_published', axis=1)"
      ],
      "metadata": {
        "id": "3bT7dLg0vVSX"
      },
      "execution_count": null,
      "outputs": []
    },
    {
      "cell_type": "markdown",
      "metadata": {
        "id": "iG3wQpWzDjp1"
      },
      "source": [
        "###**Task 2: Feature Scaling**\n",
        "\n",
        "\n",
        "*   Perform normalization to scale numerical data prior to modeling. You may use Min-max scaling technique\n",
        "*   Use Elbow method to determine the number of cluster to be formed\n",
        "*   Verify optimal number of clusers on the basis of silhouette scores\n",
        "*   Assigning cluster label to each instance of the dataframe\n",
        "*   Validating obtained clusters using external cluster validation approaches like rand_score and adjusted_rand_score\n"
      ]
    },
    {
      "cell_type": "code",
      "source": [
        "from sklearn.preprocessing import MinMaxScaler\n",
        "\n",
        "min_scal = MinMaxScaler()\n",
        "\n",
        "X = min_scal.fit_transform(X)"
      ],
      "metadata": {
        "id": "mvyU8pSguD6l",
        "colab": {
          "base_uri": "https://localhost:8080/",
          "height": 209
        },
        "outputId": "2538570d-a271-4aa5-9d64-107a863f9132"
      },
      "execution_count": 1,
      "outputs": [
        {
          "output_type": "error",
          "ename": "NameError",
          "evalue": "ignored",
          "traceback": [
            "\u001b[0;31m---------------------------------------------------------------------------\u001b[0m",
            "\u001b[0;31mNameError\u001b[0m                                 Traceback (most recent call last)",
            "\u001b[0;32m<ipython-input-1-5012a39d7a09>\u001b[0m in \u001b[0;36m<module>\u001b[0;34m\u001b[0m\n\u001b[1;32m      3\u001b[0m \u001b[0mmin_scal\u001b[0m \u001b[0;34m=\u001b[0m \u001b[0mMinMaxScaler\u001b[0m\u001b[0;34m(\u001b[0m\u001b[0;34m)\u001b[0m\u001b[0;34m\u001b[0m\u001b[0;34m\u001b[0m\u001b[0m\n\u001b[1;32m      4\u001b[0m \u001b[0;34m\u001b[0m\u001b[0m\n\u001b[0;32m----> 5\u001b[0;31m \u001b[0mX\u001b[0m \u001b[0;34m=\u001b[0m \u001b[0mmin_scal\u001b[0m\u001b[0;34m.\u001b[0m\u001b[0mfit_transform\u001b[0m\u001b[0;34m(\u001b[0m\u001b[0mX\u001b[0m\u001b[0;34m)\u001b[0m\u001b[0;34m\u001b[0m\u001b[0;34m\u001b[0m\u001b[0m\n\u001b[0m",
            "\u001b[0;31mNameError\u001b[0m: name 'X' is not defined"
          ]
        }
      ]
    },
    {
      "cell_type": "code",
      "source": [
        "X = pd.DataFrame(X, columns=[df.columns])"
      ],
      "metadata": {
        "id": "g6-5syLTvflF"
      },
      "execution_count": null,
      "outputs": []
    },
    {
      "cell_type": "code",
      "source": [
        "#from sklearn.preprocessing import normalize#scale numerical data prior to modeling\n",
        "#data_scaled = normalize(df)\n",
        "#data_scaled = pd.DataFrame(data_scaled, columns=df.columns)\n",
        "#data_scaled.head() "
      ],
      "metadata": {
        "id": "xGE3Ykp0-DQ0"
      },
      "execution_count": null,
      "outputs": []
    },
    {
      "cell_type": "code",
      "source": [
        "!pip install kneed"
      ],
      "metadata": {
        "id": "BZ6qCVepc5ki"
      },
      "execution_count": null,
      "outputs": []
    },
    {
      "cell_type": "code",
      "source": [
        "from sklearn.cluster import KMeans\n",
        "from sklearn.preprocessing import StandardScaler"
      ],
      "metadata": {
        "id": "N5KWyPzodF4e"
      },
      "execution_count": null,
      "outputs": []
    },
    {
      "cell_type": "code",
      "source": [
        "from sklearn import cluster, mixture # For clustering \n",
        "\n",
        "#Finding the optimum number of clusters for k-means classification\n",
        "\n",
        "wcss = []\n",
        "\n",
        "for i in range(1, 11):\n",
        "    kmeans = KMeans(n_clusters = i, init = 'k-means++', max_iter = 300, n_init = 10, random_state = 0)\n",
        "    kmeans.fit(df)\n",
        "    wcss.append(kmeans.inertia_)\n",
        "    \n",
        "#Plotting the results onto a line graph, allowing us to observe 'The elbow'\n",
        "plt.plot(range(1, 11), wcss)\n",
        "plt.title('The elbow method')\n",
        "plt.xlabel('Number of clusters')\n",
        "plt.ylabel('WCSS') #within cluster sum of squares\n",
        "plt.show() #we can see is 2 the better number of clustering to elbow"
      ],
      "metadata": {
        "id": "Pqrku0dzfxMl"
      },
      "execution_count": null,
      "outputs": []
    },
    {
      "cell_type": "code",
      "source": [
        "# imports\n",
        "from sklearn.decomposition import PCA\n",
        "from matplotlib import pyplot as pl\n",
        "from sklearn import metrics\n",
        "from sklearn.cluster import KMeans\n",
        "from sklearn.cluster import AgglomerativeClustering\n",
        "from sklearn.cluster import MiniBatchKMeans\n",
        "from sklearn.cluster import AffinityPropagation\n",
        "from sklearn.cluster import Birch\n",
        "from sklearn.cluster import DBSCAN\n",
        "from sklearn.cluster import MeanShift\n",
        "from sklearn.cluster import OPTICS"
      ],
      "metadata": {
        "id": "-yvuULYYjX6j"
      },
      "execution_count": 4,
      "outputs": []
    },
    {
      "cell_type": "code",
      "source": [
        "range_n_clusters = list(range(2,10))\n",
        "\n",
        "for n_clusters in range_n_clusters:\n",
        "    clusterer = KMeans(n_clusters=n_clusters)\n",
        "    preds = clusterer.fit_predict(df)\n",
        "    centers = clusterer.cluster_centers_\n",
        "\n",
        "    score = metrics.silhouette_score(df, preds)\n",
        "    print(\"For n_clusters = {}, silhouette score is {})\".format(n_clusters, score))#we can see the best score is in 2 clusters"
      ],
      "metadata": {
        "id": "b6pZkhoxjIrb"
      },
      "execution_count": null,
      "outputs": []
    },
    {
      "cell_type": "code",
      "source": [
        "k_means = KMeans(n_clusters=2, random_state=42) \n",
        "predict_kmeans= k_means.fit_predict(X)\n",
        "X['Clusters'] = k_means.fit_predict(X)"
      ],
      "metadata": {
        "id": "YNvC4p5wj9BA"
      },
      "execution_count": null,
      "outputs": []
    },
    {
      "cell_type": "code",
      "source": [
        "k_means.cluster_centers_"
      ],
      "metadata": {
        "id": "uGpoRU6ov-vQ"
      },
      "execution_count": null,
      "outputs": []
    },
    {
      "cell_type": "code",
      "source": [
        "k_means.inertia_"
      ],
      "metadata": {
        "id": "Iq3hGLO-wn93"
      },
      "execution_count": null,
      "outputs": []
    },
    {
      "cell_type": "code",
      "source": [
        "labels = k_means.labels_"
      ],
      "metadata": {
        "id": "ib5nyhkTw0Wi"
      },
      "execution_count": null,
      "outputs": []
    },
    {
      "cell_type": "code",
      "source": [
        "correct_labels = sum(y == labels)"
      ],
      "metadata": {
        "id": "6H-NASgpw7ae"
      },
      "execution_count": null,
      "outputs": []
    },
    {
      "cell_type": "code",
      "source": [
        "print(\"Result: {} out of {} samples were correctly labeled.\".format(correct_labels, y.size))"
      ],
      "metadata": {
        "id": "-q9uaZ6VxCUN"
      },
      "execution_count": null,
      "outputs": []
    },
    {
      "cell_type": "code",
      "source": [
        "from sklearn.metrics.cluster import rand_score\n",
        "from sklearn.metrics.cluster import adjusted_rand_score"
      ],
      "metadata": {
        "id": "PmWLRgc7o8Y1"
      },
      "execution_count": null,
      "outputs": []
    },
    {
      "cell_type": "code",
      "source": [
        "def evaluation(predict):\n",
        "    Rand = rand_score(y, predict)\n",
        "    Adjusted_Rand = adjusted_rand_score(y, predict)\n",
        "    print(f\"Rand Score: {Rand:.5f}\")\n",
        "    print(f\"Adjusted Rand Score: {Adjusted_Rand:.5f}\")"
      ],
      "metadata": {
        "id": "uUN9ES2n8iXi"
      },
      "execution_count": null,
      "outputs": []
    },
    {
      "cell_type": "code",
      "source": [
        "evaluation(predict_kmeans)"
      ],
      "metadata": {
        "id": "81xHgGDg88hA"
      },
      "execution_count": null,
      "outputs": []
    },
    {
      "cell_type": "markdown",
      "metadata": {
        "id": "9P9m4XFNF82H"
      },
      "source": [
        "###**Task 3: Perform PCA on Fruit Dataset**\n",
        "\n",
        "Fruit Dataset Link: https://raw.githubusercontent.com/dphi-official/Datasets/master/fruit_data.csv\n",
        "\n",
        "* Use PCA to find the first two principal components of the fruit dataset\n",
        "* Scale the value. Each feature should be centered (zero mean) and with unit variance\n",
        "* Analysis - perform PCA with 4 components and print their explained variance_ratio\n",
        "\n"
      ]
    },
    {
      "cell_type": "code",
      "source": [
        "df1= pd.read_csv('https://raw.githubusercontent.com/dphi-official/Datasets/master/fruit_data.csv')"
      ],
      "metadata": {
        "id": "9ajEanLBKTNn"
      },
      "execution_count": 16,
      "outputs": []
    },
    {
      "cell_type": "code",
      "source": [
        "clustering_kmeans = KMeans(n_clusters=2)\n",
        "df1['Clusters'] = clustering_kmeans.fit_predict(df1)\n",
        "reduced_data = PCA(n_components=2).fit_transform(df1)\n",
        "results = pd.DataFrame(reduced_data,columns=['pca1','pca2'])\n",
        "sns.scatterplot(x=\"pca1\", y=\"pca2\", hue=df1['Clusters'], data=results)\n",
        "plt.title('KMeans Clustering with 2 dimensions')\n",
        "plt.show()"
      ],
      "metadata": {
        "id": "12Kgbh0j-DtU",
        "colab": {
          "base_uri": "https://localhost:8080/",
          "height": 295
        },
        "outputId": "e750c091-93bd-49cb-e4f4-36b41c0ec995"
      },
      "execution_count": 17,
      "outputs": [
        {
          "output_type": "display_data",
          "data": {
            "text/plain": [
              "<Figure size 432x288 with 1 Axes>"
            ],
            "image/png": "[encoded data removed]"
          },
          "metadata": {
            "needs_background": "light"
          }
        }
      ]
    },
    {
      "cell_type": "code",
      "source": [
        "pl = sns.countplot(x=df1[\"Clusters\"])#see the distribution\n",
        "pl.set_title(\"Distribution Of The Clusters\")\n",
        "plt.show()"
      ],
      "metadata": {
        "colab": {
          "base_uri": "https://localhost:8080/",
          "height": 295
        },
        "id": "7iE8mL3g-Txl",
        "outputId": "bcc82506-37ce-487e-aabf-d455e43c3961"
      },
      "execution_count": 18,
      "outputs": [
        {
          "output_type": "display_data",
          "data": {
            "text/plain": [
              "<Figure size 432x288 with 1 Axes>"
            ],
            "image/png": "[encoded data removed]"
          },
          "metadata": {
            "needs_background": "light"
          }
        }
      ]
    },
    {
      "cell_type": "code",
      "source": [
        "df1['Clusters'].value_counts()"
      ],
      "metadata": {
        "colab": {
          "base_uri": "https://localhost:8080/"
        },
        "id": "TiVUPn9W-nB-",
        "outputId": "2f186013-1692-4c6e-ccc4-93ba8b8f3df4"
      },
      "execution_count": 19,
      "outputs": [
        {
          "output_type": "execute_result",
          "data": {
            "text/plain": [
              "0    56\n",
              "1     3\n",
              "Name: Clusters, dtype: int64"
            ]
          },
          "metadata": {},
          "execution_count": 19
        }
      ]
    },
    {
      "cell_type": "code",
      "source": [
        "df1.info()"
      ],
      "metadata": {
        "colab": {
          "base_uri": "https://localhost:8080/"
        },
        "id": "pqnXuE1n-tNo",
        "outputId": "43a13435-564a-4cac-cdf1-2570e5edd18c"
      },
      "execution_count": 20,
      "outputs": [
        {
          "output_type": "stream",
          "name": "stdout",
          "text": [
            "<class 'pandas.core.frame.DataFrame'>\n",
            "RangeIndex: 59 entries, 0 to 58\n",
            "Data columns (total 6 columns):\n",
            " #   Column       Non-Null Count  Dtype  \n",
            "---  ------       --------------  -----  \n",
            " 0   fruit_label  59 non-null     int64  \n",
            " 1   mass         59 non-null     int64  \n",
            " 2   width        59 non-null     float64\n",
            " 3   height       59 non-null     float64\n",
            " 4   color_score  59 non-null     float64\n",
            " 5   Clusters     59 non-null     int32  \n",
            "dtypes: float64(3), int32(1), int64(2)\n",
            "memory usage: 2.7 KB\n"
          ]
        }
      ]
    },
    {
      "cell_type": "code",
      "source": [
        "df1['Clusters'].value_counts(normalize=True) #we can fix this with downsample or undersample"
      ],
      "metadata": {
        "colab": {
          "base_uri": "https://localhost:8080/"
        },
        "id": "8Cj7mTeh-1E5",
        "outputId": "f16e6bd2-f472-4c48-bceb-d25690975bd9"
      },
      "execution_count": 21,
      "outputs": [
        {
          "output_type": "execute_result",
          "data": {
            "text/plain": [
              "0    0.949153\n",
              "1    0.050847\n",
              "Name: Clusters, dtype: float64"
            ]
          },
          "metadata": {},
          "execution_count": 21
        }
      ]
    },
    {
      "cell_type": "code",
      "source": [
        "from sklearn import preprocessing\n",
        "X_scaled = preprocessing.scale(df1)\n",
        "X_scaled.mean(axis=0)\n",
        "X_scaled.std(axis=0)"
      ],
      "metadata": {
        "colab": {
          "base_uri": "https://localhost:8080/"
        },
        "id": "I5jn5m-2D6-u",
        "outputId": "b3176423-d89e-43fc-f93f-40a37a09c293"
      },
      "execution_count": 22,
      "outputs": [
        {
          "output_type": "execute_result",
          "data": {
            "text/plain": [
              "array([1., 1., 1., 1., 1., 1.])"
            ]
          },
          "metadata": {},
          "execution_count": 22
        }
      ]
    },
    {
      "cell_type": "code",
      "source": [
        "#def downsample(df, label_col_name):\n",
        "    # find the number of observations in the smallest group\n",
        " #   nmin = df[label_col_name].value_counts().min()\n",
        "  #  return (df\n",
        "            # split the dataframe per group\n",
        "   #         .groupby(label_col_name)\n",
        "            # sample nmin observations from each group\n",
        "    #        .apply(lambda x: x.sample(nmin))\n",
        "            # recombine the dataframes\n",
        "     #       .reset_index(drop=True)\n",
        "      #      )"
      ],
      "metadata": {
        "id": "0yc-yZRQ--_1"
      },
      "execution_count": 12,
      "outputs": []
    },
    {
      "cell_type": "code",
      "source": [
        "#df_us = downsample(df1, 'Clusters')"
      ],
      "metadata": {
        "id": "ba85hhFA_DBD"
      },
      "execution_count": 13,
      "outputs": []
    },
    {
      "cell_type": "code",
      "source": [
        "#df_us['Clusters'].value_counts(normalize=True)"
      ],
      "metadata": {
        "colab": {
          "base_uri": "https://localhost:8080/"
        },
        "id": "3cf3JeQl_ID0",
        "outputId": "877cdc19-2ea6-437e-8cea-fca2e47c1ef4"
      },
      "execution_count": 14,
      "outputs": [
        {
          "output_type": "execute_result",
          "data": {
            "text/plain": [
              "0    0.5\n",
              "1    0.5\n",
              "Name: Clusters, dtype: float64"
            ]
          },
          "metadata": {},
          "execution_count": 14
        }
      ]
    },
    {
      "cell_type": "code",
      "source": [
        "#pl = sns.countplot(x=df_us[\"Clusters\"])\n",
        "#pl.set_title(\"Distribution Of The Clusters\")\n",
        "#plt.show()"
      ],
      "metadata": {
        "colab": {
          "base_uri": "https://localhost:8080/",
          "height": 295
        },
        "id": "Ayxp3K0H_MYO",
        "outputId": "0836ae1b-4582-4446-d9c5-9c5328d751fc"
      },
      "execution_count": 15,
      "outputs": [
        {
          "output_type": "display_data",
          "data": {
            "text/plain": [
              "<Figure size 432x288 with 1 Axes>"
            ],
            "image/png": "[encoded data removed]"
          },
          "metadata": {
            "needs_background": "light"
          }
        }
      ]
    },
    {
      "cell_type": "code",
      "source": [
        "df1.columns"
      ],
      "metadata": {
        "colab": {
          "base_uri": "https://localhost:8080/"
        },
        "id": "L5_2ant3LcyA",
        "outputId": "6215f904-22d9-449f-9b57-80ee387bf48c"
      },
      "execution_count": 26,
      "outputs": [
        {
          "output_type": "execute_result",
          "data": {
            "text/plain": [
              "Index(['fruit_label', 'mass', 'width', 'height', 'color_score', 'Clusters'], dtype='object')"
            ]
          },
          "metadata": {},
          "execution_count": 26
        }
      ]
    },
    {
      "cell_type": "code",
      "source": [
        "pl = sns.scatterplot(data=df1, x=df1[\"height\"], y=df1[\"mass\"], hue=df1[\"Clusters\"])\n",
        "pl.set_title(\"Cluster's Profile Based on Shares And Likes\")\n",
        "plt.legend()\n",
        "plt.show()"
      ],
      "metadata": {
        "colab": {
          "base_uri": "https://localhost:8080/",
          "height": 295
        },
        "id": "22mXZHUd_Y95",
        "outputId": "d4d3a623-c01f-4444-ebd3-708542f3e5e8"
      },
      "execution_count": 28,
      "outputs": [
        {
          "output_type": "display_data",
          "data": {
            "text/plain": [
              "<Figure size 432x288 with 1 Axes>"
            ],
            "image/png": "[encoded data removed]"
          },
          "metadata": {
            "needs_background": "light"
          }
        }
      ]
    },
    {
      "cell_type": "code",
      "source": [
        "clustering_kmeans = KMeans(n_clusters=4)\n",
        "df1['Clusters'] = clustering_kmeans.fit_predict(df1)\n",
        "reduced_data4 = PCA(n_components=4).fit_transform(df1)\n",
        "results4 = pd.DataFrame(reduced_data4,columns=['pca1','pca2','pca3','pca4'])\n",
        "sns.scatterplot(x=\"pca1\", y=\"pca2\", hue=df1['Clusters'], data=results)\n",
        "plt.title('KMeans Clustering with 4 dimensions')\n",
        "plt.show()"
      ],
      "metadata": {
        "colab": {
          "base_uri": "https://localhost:8080/",
          "height": 295
        },
        "id": "ulYm9GTB_p18",
        "outputId": "0a79542e-0746-4d6b-c6e5-30d5eda9a9e4"
      },
      "execution_count": 31,
      "outputs": [
        {
          "output_type": "display_data",
          "data": {
            "text/plain": [
              "<Figure size 432x288 with 1 Axes>"
            ],
            "image/png": "[encoded data removed]"
          },
          "metadata": {
            "needs_background": "light"
          }
        }
      ]
    },
    {
      "cell_type": "code",
      "source": [
        "pca = PCA(n_components=4, whiten=True)\n",
        "pca.fit(df1)\n",
        "variance = pd.DataFrame(pca.explained_variance_ratio_)\n",
        "np.cumsum(pca.explained_variance_ratio_)"
      ],
      "metadata": {
        "colab": {
          "base_uri": "https://localhost:8080/"
        },
        "id": "C1VfSHQOBQEK",
        "outputId": "c74e27e1-b989-4fe6-fa1a-56c18042018d"
      },
      "execution_count": 33,
      "outputs": [
        {
          "output_type": "execute_result",
          "data": {
            "text/plain": [
              "array([0.99855189, 0.99937683, 0.99981295, 0.99997366])"
            ]
          },
          "metadata": {},
          "execution_count": 33
        }
      ]
    }
  ]
}