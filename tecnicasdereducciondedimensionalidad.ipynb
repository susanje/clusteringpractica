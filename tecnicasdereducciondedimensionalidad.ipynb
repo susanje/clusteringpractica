{
  "nbformat": 4,
  "nbformat_minor": 0,
  "metadata": {
    "colab": {
      "provenance": [],
      "authorship_tag": "ABX9TyPAvxTw6kExKC7+eeETZ7Xs",
      "include_colab_link": true
    },
    "kernelspec": {
      "name": "python3",
      "display_name": "Python 3"
    },
    "language_info": {
      "name": "python"
    }
  },
  "cells": [
    {
      "cell_type": "markdown",
      "metadata": {
        "id": "view-in-github",
        "colab_type": "text"
      },
      "source": [
        "<a href=\"https://colab.research.google.com/github/susanje/clusteringpractica/blob/main/tecnicasdereducciondedimensionalidad.ipynb\" target=\"_parent\"><img src=\"https://colab.research.google.com/assets/colab-badge.svg\" alt=\"Open In Colab\"/></a>"
      ]
    },
    {
      "cell_type": "code",
      "execution_count": 23,
      "metadata": {
        "id": "wgnaZ0EvgGOW"
      },
      "outputs": [],
      "source": [
        "import numpy as np\n",
        "import matplotlib.pyplot as plt\n",
        "import pandas as pd\n",
        "\n",
        "from sklearn import datasets\n",
        "\n",
        "from sklearn.decomposition import (PCA, IncrementalPCA,\n",
        "KernelPCA, TruncatedSVD,\n",
        "FastICA, MiniBatchDictionaryLearning,\n",
        "SparsePCA)\n",
        "\n",
        "from sklearn.manifold import (Isomap,\n",
        "LocallyLinearEmbedding)\n",
        "\n",
        "from sklearn.discriminant_analysis import LinearDiscriminantAnalysis\n",
        "\n",
        "from sklearn.random_projection import (GaussianRandomProjection,\n",
        "SparseRandomProjection)\n",
        "\n",
        "from sklearn.neighbors import (KNeighborsClassifier,\n",
        "NeighborhoodComponentsAnalysis)\n",
        "\n",
        "from sklearn.pipeline import make_pipeline\n",
        "from sklearn.preprocessing import StandardScaler\n",
        "from sklearn.model_selection import train_test_split\n",
        "\n",
        "%matplotlib inline"
      ]
    },
    {
      "cell_type": "code",
      "source": [
        "# cargar los datos del dataset digits que viene precargado en sklearn dataset\n",
        "digits = datasets.load_digits()\n",
        "X, y = digits.data, digits.target\n",
        "\n",
        "# Parametrizamos\n",
        "dim = len(X[0])\n",
        "n_classes = len(np.unique(y))\n",
        "n_neighbors = 3\n",
        "random_state = 0\n",
        "\n",
        "# Dividimos en test y trian\n",
        "X_train, X_test, y_train, y_test = \\\n",
        "train_test_split(X, y, test_size=0.5, stratify=y,\n",
        "random_state=random_state)"
      ],
      "metadata": {
        "id": "wMrJK1PPglI_"
      },
      "execution_count": 24,
      "outputs": []
    },
    {
      "cell_type": "markdown",
      "source": [
        "Canalización: en cada una de las técnicas, crearemos una canalización (usando make_pipeline de sklearn) en la que se escalarán los datos (usando StandardScaler) antes de pasar al método de reducción de dimensionalidad."
      ],
      "metadata": {
        "id": "olWMlLKsh5v9"
      }
    },
    {
      "cell_type": "markdown",
      "source": [
        "PCA"
      ],
      "metadata": {
        "id": "FyX8MXUQkTnW"
      }
    },
    {
      "cell_type": "code",
      "source": [
        "pca = make_pipeline(StandardScaler(), # El primer componente principal trata de capturar la varianza máxima del conjunto original de características.\n",
        "PCA(n_components=2, #numero de componentes que queremos que queden\n",
        "random_state=random_state))"
      ],
      "metadata": {
        "id": "VYfsMvnMg9dn"
      },
      "execution_count": 26,
      "outputs": []
    },
    {
      "cell_type": "markdown",
      "source": [
        "ICA"
      ],
      "metadata": {
        "id": "xIDpjWafkYJZ"
      }
    },
    {
      "cell_type": "code",
      "source": [
        "inc_pca = make_pipeline(StandardScaler(), #conserva los vectores singulares más significativos para proyectar los datos en un espacio a tamaño reducido.\n",
        "IncrementalPCA(n_components=2))"
      ],
      "metadata": {
        "id": "YdK3c55KhAC5"
      },
      "execution_count": 27,
      "outputs": []
    },
    {
      "cell_type": "markdown",
      "source": [
        "KERNEL PCA"
      ],
      "metadata": {
        "id": "1mRw4wh5kghI"
      }
    },
    {
      "cell_type": "code",
      "source": [
        "# kernel : “linear” | “poly” | “rbf” | “sigmoid” | “cosine” | “precomputed” #TIPOS DE KERNEL QUE PODEMOS ELEGIR\n",
        "kpca = make_pipeline(StandardScaler(), #KPCA hace posible realizar proyecciones no lineales complejas para la reducción de la dimensionalidad.\n",
        "KernelPCA(kernel=\"cosine\", # Kernel usado por PCA\n",
        "n_components=2, # Numero de componentes\n",
        "gamma=None, # Kernel coeficiente por rbf, poly and sigmoid kernels\n",
        "fit_inverse_transform=True,\n",
        "random_state=random_state, # poner un entero para obtener resultados reproducibles\n",
        "n_jobs=1)) # El número de trabajos paralelos a ejecutar. -1 significa usar todos los procesadores."
      ],
      "metadata": {
        "id": "F3k44ZcKhDFS"
      },
      "execution_count": 28,
      "outputs": []
    },
    {
      "cell_type": "markdown",
      "source": [
        "**SPARSE PCA** utiliza los enlaces entre PCA y SVD para extraer los componentes principales resolviendo un problema de aproximación de matriz de orden inferior"
      ],
      "metadata": {
        "id": "zO0al8pyl2sW"
      }
    },
    {
      "cell_type": "code",
      "source": [
        "sparsepca = make_pipeline(StandardScaler(),\n",
        "SparsePCA(n_components=2, #Número de átomos dispersos a extraer.\n",
        "alpha=0.0001, # Parámetro de control de dispersión. Los valores más altos conducen a componentes más dispersos.\n",
        "random_state=random_state, # poner un entero para obtener resultados reproducibles\n",
        "n_jobs=-1)) # El número de trabajos paralelos a ejecutar. -1 significa usar todos los procesadores."
      ],
      "metadata": {
        "id": "0LIPCWVBhFp-"
      },
      "execution_count": 29,
      "outputs": []
    },
    {
      "cell_type": "markdown",
      "source": [
        "**SVD** se puede aplicar incluso en matrices rectangulares; mientras que los valores propios se definen solo para matrices cuadradas. Como son de naturaleza rectangular, necesitamos tener vectores singulares a la izquierda y vectores singulares a la derecha respectivamente para sus dimensiones."
      ],
      "metadata": {
        "id": "50nCfQvHtcj7"
      }
    },
    {
      "cell_type": "code",
      "source": [
        "SVD = make_pipeline(StandardScaler(),\n",
        "TruncatedSVD(n_components=2, # Dimensionalidad deseada de los datos de salida.\n",
        "# Debe ser estrictamente menor que el número de características.\n",
        "# El valor predeterminado es útil para la visualización.\n",
        "\n",
        "algorithm='randomized', # Metodo que usa SVD para resolver.\n",
        "random_state=random_state,\n",
        "n_iter=5)) "
      ],
      "metadata": {
        "id": "BMlVqXR6hIxq"
      },
      "execution_count": 30,
      "outputs": []
    },
    {
      "cell_type": "markdown",
      "source": [
        "**Proyección aleatoria gaussiana**\n",
        "En la proyección aleatoria, los datos con una dimensión muy grande (d) se proyectan en un espacio bidimensional (kd) con una matriz aleatoria."
      ],
      "metadata": {
        "id": "TDLxoQaPp_Az"
      }
    },
    {
      "cell_type": "code",
      "source": [
        "GRP = make_pipeline(StandardScaler(),\n",
        "GaussianRandomProjection(n_components=2, #  Dimensionalidad del espacio de proyección.\n",
        "eps = 0.5, # Parámetro para controlar la calidad de la incrustación.\n",
        "# Los valores más pequeños conducen a una mejor incrustación y a un mayor número de dimensiones (n_components ) en el espacio de proyección de destino.\n",
        "random_state=random_state))"
      ],
      "metadata": {
        "id": "9ZjVaGoXhLLe"
      },
      "execution_count": 31,
      "outputs": []
    },
    {
      "cell_type": "markdown",
      "source": [
        "**LDA** es un clasificador con un límite de decisión lineal, generado ajustando densidades condicionales de clase a los datos y usando la regla de Bayes."
      ],
      "metadata": {
        "id": "hPnlgHxiqZ0A"
      }
    },
    {
      "cell_type": "code",
      "source": [
        "lda = make_pipeline(StandardScaler(),\n",
        "LinearDiscriminantAnalysis(n_components=2))\n",
        "# Número de componentes (<= min(n_classes - 1, n_features)) para la reducción de dimensionalidad."
      ],
      "metadata": {
        "id": "SDHti_rDhNYa"
      },
      "execution_count": 32,
      "outputs": []
    },
    {
      "cell_type": "markdown",
      "source": [
        "**El análisis de componentes de vecindario (NCA)** es un algoritmo de aprendizaje automático para el aprendizaje de métricas. Aprende una transformación lineal de forma supervisada para mejorar la precisión de clasificación de una regla estocástica de vecinos más cercanos en el espacio transformado"
      ],
      "metadata": {
        "id": "k7udWv6gqrJi"
      }
    },
    {
      "cell_type": "code",
      "source": [
        "nca = make_pipeline(StandardScaler(),\n",
        "NeighborhoodComponentsAnalysis(n_components=2, # Dimensionalidad preferida del espacio proyectado. Si no hay ninguna, se establecerá en n_features.\n",
        "random_state=random_state))"
      ],
      "metadata": {
        "id": "_9ydl-i9hPb8"
      },
      "execution_count": 33,
      "outputs": []
    },
    {
      "cell_type": "markdown",
      "source": [
        "**Proyección aleatoria dispersa**\n",
        "La matriz aleatoria fragmentada es una alternativa a la matriz de proyección aleatoria densa con métodos tradicionales de reducción de dimensiones. Garantiza una calidad de incrustación similar al mismo tiempo que maximiza la eficiencia de la memoria y permite un cálculo más rápido de los datos proyectados."
      ],
      "metadata": {
        "id": "4jX575Umq7b_"
      }
    },
    {
      "cell_type": "code",
      "source": [
        "SRP = make_pipeline(StandardScaler(),\n",
        "SparseRandomProjection(n_components=2, # Dimensionalidad del espacio de proyección de destino.\n",
        "density = 'auto', # Proporción en el rango (0, 1] del componente distinto de cero en la matriz de proyección aleatoria.\n",
        "# Si la densidad = 'auto', el valor se establece en la densidad mínima\n",
        "eps = 0.5, # Parámetro para controlar la calidad de la incrustación\n",
        "# Los valores más pequeños conducen a una mejor incrustación y una mayor cantidad de dimensiones (n_componentes) en el espacio de proyección de destino\n",
        "random_state=random_state,\n",
        "dense_output = False))\n",
        "# Si es True,hay que  asegúrarse de que la salida de la proyección aleatoria sea una matriz numérica densa, incluso si la matriz de entrada y la proyección aleatoria son escasas.\n",
        "# Si es False, los datos proyectados usan una representación escasa si la entrada es escasa."
      ],
      "metadata": {
        "id": "8Re24qcGhQJe"
      },
      "execution_count": 34,
      "outputs": []
    },
    {
      "cell_type": "markdown",
      "source": [
        "**ISOMAP**\n",
        "Es un método de reducción de dimensionalidad no lineal basado en la teoría espectral que intenta preservar las distancias geodésicas en la dimensión inferior."
      ],
      "metadata": {
        "id": "AhIchx5jrmsF"
      }
    },
    {
      "cell_type": "code",
      "source": [
        "isomap = make_pipeline(StandardScaler(),\n",
        "Isomap(n_components=2, # número de coordenadas para el múltiple\n",
        "n_jobs = 4, # El número de trabajos paralelos a ejecutar. -1 significa usar todos los procesadores.\n",
        "n_neighbors = 5)) # número de vecinos a considerar para cada punto."
      ],
      "metadata": {
        "id": "Vy5UhNlphUVz"
      },
      "execution_count": 35,
      "outputs": []
    },
    {
      "cell_type": "markdown",
      "source": [
        "**Aprendizaje de diccionario MiniBatch**\n",
        "El aprendizaje basado en diccionarios resuelve un problema de factorización de matrices que consiste en encontrar un diccionario que pueda dar buenos resultados bajo la condición de parsimonia del código."
      ],
      "metadata": {
        "id": "fr9vV0FysAmc"
      }
    },
    {
      "cell_type": "code",
      "source": [
        "miniBatchDictLearning = make_pipeline(StandardScaler(),\n",
        "MiniBatchDictionaryLearning(n_components=2, # Número de elementos de diccionario para extraer.\n",
        "batch_size = 200, #Número de muestras en cada mini-lote.\n",
        "alpha = 1, # Parámetro de control de dispersión.\n",
        "n_iter = 25, # Número total de iteraciones a realizar\n",
        "random_state=random_state))"
      ],
      "metadata": {
        "id": "HTeV8oGghWbM"
      },
      "execution_count": 36,
      "outputs": []
    },
    {
      "cell_type": "markdown",
      "source": [
        "**ICA** El análisis de componentes independientes es un método utilizado principalmente para el procesamiento de señales para separar linealmente datos mixtos."
      ],
      "metadata": {
        "id": "SoNfANA7sbYm"
      }
    },
    {
      "cell_type": "code",
      "source": [
        "FastICA = make_pipeline(StandardScaler(),\n",
        "FastICA(n_components=2, # Número de componentes a usar. Si no se pasa ninguno, se usan todos.\n",
        "algorithm = 'parallel', # Aplicar algoritmo paralelo o deflacionario para FastICA.\n",
        "whiten = True, #  Si whiten es falso, los datos ya se consideran blanqueados y no se realiza blanqueamiento\n",
        "max_iter = 100, # Número máximo de iteraciones durante el fit\n",
        "random_state=random_state))"
      ],
      "metadata": {
        "id": "ohlEfcEJhYvx"
      },
      "execution_count": 37,
      "outputs": []
    },
    {
      "cell_type": "markdown",
      "source": [
        "**LLE** funciona midiendo primero cómo cada instancia de entrenamiento se relaciona linealmente con sus vecinos más cercanos (cn) y luego buscando una representación de baja dimensión del conjunto de entrenamiento donde estas relaciones locales se conservan mejor (más detalles en breve). Esto lo hace particularmente bueno para desenrollar colectores retorcidos, especialmente cuando no hay demasiado ruido."
      ],
      "metadata": {
        "id": "nvD_hO7Ms2wH"
      }
    },
    {
      "cell_type": "code",
      "source": [
        "lle = make_pipeline(StandardScaler(),\n",
        "LocallyLinearEmbedding(n_components=2, # número de coordenadas para la variedad/manifold\n",
        "n_neighbors = 10, # número de vecinos a considerar para cada punto.\n",
        "method = 'modified', # {‘standard’, ‘hessian’, ‘modified’, ‘ltsa’},\n",
        "# default='standard': el algoritmo de incrustación lineal local estándar.\n",
        "n_jobs = 4, # El número de trabajos paralelos a ejecutar. Ninguno significa 1. -1 significa usar todos los procesadores..\n",
        "random_state=random_state))"
      ],
      "metadata": {
        "id": "lzSPJbFZhbPK"
      },
      "execution_count": 38,
      "outputs": []
    },
    {
      "cell_type": "markdown",
      "source": [
        "# ***Usar un clasificador vecino más cercano para evaluar los métodos***"
      ],
      "metadata": {
        "id": "7Kko6oAutqjV"
      }
    },
    {
      "cell_type": "code",
      "source": [
        "knn = KNeighborsClassifier(n_neighbors=n_neighbors) # Número de vecinos a usar"
      ],
      "metadata": {
        "id": "0BVdGZ-_heH6"
      },
      "execution_count": 39,
      "outputs": []
    },
    {
      "cell_type": "code",
      "source": [
        "import warnings\n",
        "warnings.filterwarnings('ignore')\n",
        "import matplotlib.pyplot as plt\n",
        "# lista de los métodos a comparar\n",
        "dim_reduction_methods = {'PCA': pca,\n",
        "'LDA': lda,\n",
        "'NCA': nca,\n",
        "'INC PCA': inc_pca,\n",
        "'KPCA':kpca,\n",
        "'Sparced PCA': sparsepca,\n",
        "'SVD': SVD,\n",
        "'GRP' : GRP,\n",
        "'SRP': SRP,\n",
        "'IsoMap': isomap,\n",
        "'MBD': miniBatchDictLearning,\n",
        "'ICA': FastICA,\n",
        "'LLE': lle}\n",
        "plt.figure(figsize=(24, 36))\n",
        "\n",
        "for j,(name, model) in enumerate(dim_reduction_methods.items()):\n",
        "                                                                plt.subplot(5, 3, j + 1, aspect='auto')\n",
        "\n",
        "# Ajustar el modelo del método\n",
        "model.fit(X_train, y_train)\n",
        "\n",
        "# Ajusta un clasificador vecino más cercano en el conjunto de entrenamiento incrustado\n",
        "knn.fit(model.transform(X_train), y_train)\n",
        "\n",
        "# Ajusta un clasificador vecino más cercano en el conjunto de entrenamiento incrustado\n",
        "acc_knn = knn.score(model.transform(X_test), y_test)\n",
        "\n",
        "# Ajuste los métodos usando el modelo ajustado\n",
        "X_embedded = model.transform(X)\n",
        "\n",
        "# Creación de un dataframe para plotear en un grafico la variable de muestra\n",
        "df = pd.DataFrame(np.concatenate((X_embedded, np.reshape(y, (-1, 1))), axis=1))\n",
        "\n",
        "# Trazar los puntos proyectados y mostrar el puntaje de evaluación\n",
        "plt.scatter(X_embedded[:, 0], X_embedded[:, 1], c=y, s=20, cmap='Set1')\n",
        "plt.title(\"{}, KNN (k={})\\nTest accuracy = {:.2f}\".format(name,\n",
        "n_neighbors,\n",
        "acc_knn))\n",
        "plt.colorbar()\n",
        "\n",
        "# Etiquete las distribuciones de datos\n",
        "for i, number in enumerate(y_test):\n",
        "                  plt.annotate(number,\n",
        "                  df.loc[df[2]==number,[0,1]].mean(),\n",
        "                  horizontalalignment='center',\n",
        "                  verticalalignment='center',\n",
        "                  weight='bold',\n",
        "                  size='20')\n",
        "\n",
        "plt.show()"
      ],
      "metadata": {
        "colab": {
          "base_uri": "https://localhost:8080/",
          "height": 1000
        },
        "id": "cUhGjyCuhiTy",
        "outputId": "94e81a00-a7cd-4aeb-b94c-70732b99aba4"
      },
      "execution_count": 40,
      "outputs": [
        {
          "output_type": "display_data",
          "data": {
            "text/plain": [
              "<Figure size 1728x2592 with 14 Axes>"
            ],
            "image/png": "[encoded data removed]"
          },
          "metadata": {
            "needs_background": "light"
          }
        }
      ]
    }
  ]
}